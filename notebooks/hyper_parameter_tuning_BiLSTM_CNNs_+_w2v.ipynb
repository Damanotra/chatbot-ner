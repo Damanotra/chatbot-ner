{
 "cells": [
  {
   "cell_type": "code",
   "execution_count": null,
   "metadata": {
    "id": "P-ricsMdwIND"
   },
   "outputs": [],
   "source": [
    "import tensorflow as tf\n",
    "tf.random.set_seed(1)\n",
    "tf.compat.v1.enable_eager_execution()\n",
    "\n",
    "import numpy as np\n",
    "np.random.seed(1)\n",
    "\n",
    "import gensim\n",
    "import pandas as pd\n",
    "import matplotlib.pyplot as plt\n",
    "import talos as ta\n",
    "\n",
    "from tensorflow.keras.preprocessing.sequence import pad_sequences\n",
    "from tensorflow.keras.utils import to_categorical\n",
    "from tensorflow.keras import Model, Input\n",
    "from tensorflow.keras.layers import LSTM, Embedding, Dense, \\\n",
    "    SpatialDropout1D, Bidirectional, Conv1D, concatenate\n",
    "from tensorflow.keras.callbacks import EarlyStopping\n",
    "from tensorflow.keras.models import load_model\n",
    "from tensorflow.keras.callbacks import Callback\n",
    "\n",
    "from sklearn.model_selection import train_test_split\n",
    "from sklearn.metrics import f1_score, classification_report, confusion_matrix\n",
    "\n",
    "%matplotlib inline"
   ]
  },
  {
   "cell_type": "code",
   "execution_count": null,
   "metadata": {
    "colab": {
     "base_uri": "https://localhost:8080/",
     "height": 34
    },
    "id": "gNv27H2o0Ejb",
    "outputId": "df899d89-b4cd-4736-a5b1-8e2bbf273442"
   },
   "outputs": [
    {
     "name": "stdout",
     "output_type": "stream",
     "text": [
      "/device:GPU:0\n"
     ]
    }
   ],
   "source": [
    "print(tf.test.gpu_device_name())"
   ]
  },
  {
   "cell_type": "code",
   "execution_count": null,
   "metadata": {
    "id": "xBYtA960wINN"
   },
   "outputs": [],
   "source": [
    "df = pd.read_csv('../data/data.csv')"
   ]
  },
  {
   "cell_type": "code",
   "execution_count": null,
   "metadata": {
    "colab": {
     "base_uri": "https://localhost:8080/",
     "height": 206
    },
    "id": "iSXTmmDKwINX",
    "outputId": "c186aba6-7838-4bee-f2ab-f913a2efe58e"
   },
   "outputs": [
    {
     "data": {
      "text/html": [
       "<div>\n",
       "<style scoped>\n",
       "    .dataframe tbody tr th:only-of-type {\n",
       "        vertical-align: middle;\n",
       "    }\n",
       "\n",
       "    .dataframe tbody tr th {\n",
       "        vertical-align: top;\n",
       "    }\n",
       "\n",
       "    .dataframe thead th {\n",
       "        text-align: right;\n",
       "    }\n",
       "</style>\n",
       "<table border=\"1\" class=\"dataframe\">\n",
       "  <thead>\n",
       "    <tr style=\"text-align: right;\">\n",
       "      <th></th>\n",
       "      <th>word</th>\n",
       "      <th>tag</th>\n",
       "    </tr>\n",
       "  </thead>\n",
       "  <tbody>\n",
       "    <tr>\n",
       "      <th>0</th>\n",
       "      <td>Pengamat</td>\n",
       "      <td>O</td>\n",
       "    </tr>\n",
       "    <tr>\n",
       "      <th>1</th>\n",
       "      <td>politik</td>\n",
       "      <td>O</td>\n",
       "    </tr>\n",
       "    <tr>\n",
       "      <th>2</th>\n",
       "      <td>dari</td>\n",
       "      <td>O</td>\n",
       "    </tr>\n",
       "    <tr>\n",
       "      <th>3</th>\n",
       "      <td>Universitas</td>\n",
       "      <td>B-ORGANIZATION</td>\n",
       "    </tr>\n",
       "    <tr>\n",
       "      <th>4</th>\n",
       "      <td>Gadjah</td>\n",
       "      <td>I-ORGANIZATION</td>\n",
       "    </tr>\n",
       "  </tbody>\n",
       "</table>\n",
       "</div>"
      ],
      "text/plain": [
       "          word             tag\n",
       "0     Pengamat               O\n",
       "1      politik               O\n",
       "2         dari               O\n",
       "3  Universitas  B-ORGANIZATION\n",
       "4       Gadjah  I-ORGANIZATION"
      ]
     },
     "execution_count": 9,
     "metadata": {
      "tags": []
     },
     "output_type": "execute_result"
    }
   ],
   "source": [
    "df.head()"
   ]
  },
  {
   "cell_type": "code",
   "execution_count": null,
   "metadata": {
    "colab": {
     "base_uri": "https://localhost:8080/",
     "height": 206
    },
    "id": "t87mchhWwINg",
    "outputId": "dc09628e-5568-46af-f891-624b96d3276e"
   },
   "outputs": [
    {
     "data": {
      "text/html": [
       "<div>\n",
       "<style scoped>\n",
       "    .dataframe tbody tr th:only-of-type {\n",
       "        vertical-align: middle;\n",
       "    }\n",
       "\n",
       "    .dataframe tbody tr th {\n",
       "        vertical-align: top;\n",
       "    }\n",
       "\n",
       "    .dataframe thead th {\n",
       "        text-align: right;\n",
       "    }\n",
       "</style>\n",
       "<table border=\"1\" class=\"dataframe\">\n",
       "  <thead>\n",
       "    <tr style=\"text-align: right;\">\n",
       "      <th></th>\n",
       "      <th>word</th>\n",
       "      <th>tag</th>\n",
       "      <th>sentence #</th>\n",
       "    </tr>\n",
       "  </thead>\n",
       "  <tbody>\n",
       "    <tr>\n",
       "      <th>0</th>\n",
       "      <td>Pengamat</td>\n",
       "      <td>O</td>\n",
       "      <td>1</td>\n",
       "    </tr>\n",
       "    <tr>\n",
       "      <th>1</th>\n",
       "      <td>politik</td>\n",
       "      <td>O</td>\n",
       "      <td>1</td>\n",
       "    </tr>\n",
       "    <tr>\n",
       "      <th>2</th>\n",
       "      <td>dari</td>\n",
       "      <td>O</td>\n",
       "      <td>1</td>\n",
       "    </tr>\n",
       "    <tr>\n",
       "      <th>3</th>\n",
       "      <td>Universitas</td>\n",
       "      <td>B-ORGANIZATION</td>\n",
       "      <td>1</td>\n",
       "    </tr>\n",
       "    <tr>\n",
       "      <th>4</th>\n",
       "      <td>Gadjah</td>\n",
       "      <td>I-ORGANIZATION</td>\n",
       "      <td>1</td>\n",
       "    </tr>\n",
       "  </tbody>\n",
       "</table>\n",
       "</div>"
      ],
      "text/plain": [
       "          word             tag  sentence #\n",
       "0     Pengamat               O           1\n",
       "1      politik               O           1\n",
       "2         dari               O           1\n",
       "3  Universitas  B-ORGANIZATION           1\n",
       "4       Gadjah  I-ORGANIZATION           1"
      ]
     },
     "execution_count": 10,
     "metadata": {
      "tags": []
     },
     "output_type": "execute_result"
    }
   ],
   "source": [
    "sentences = []\n",
    "cnt = 1\n",
    "\n",
    "for i in df.itertuples():\n",
    "    sentences.append(cnt)\n",
    "    \n",
    "    if '.' in str(i.word):\n",
    "        cnt += 1\n",
    "        \n",
    "df['sentence #'] = sentences\n",
    "df.head()"
   ]
  },
  {
   "cell_type": "code",
   "execution_count": null,
   "metadata": {
    "id": "LclCXTYdwINm"
   },
   "outputs": [],
   "source": [
    "agg_func = lambda s: [(w, t) for w, t in zip(s['word'].values.tolist(), s['tag'].values.tolist())]\n",
    "grouped = df.groupby('sentence #').apply(agg_func)\n",
    "sentences = [s for s in grouped]"
   ]
  },
  {
   "cell_type": "code",
   "execution_count": null,
   "metadata": {
    "id": "v0FezO6xwINs"
   },
   "outputs": [],
   "source": [
    "words = list(set(df['word'].values))\n",
    "words.append('PADDING')\n",
    "num_words = len(words)\n",
    "tags = list(set(df['tag'].values))\n",
    "num_tags = len(tags)"
   ]
  },
  {
   "cell_type": "code",
   "execution_count": null,
   "metadata": {
    "id": "XUU3rBgNwINy"
   },
   "outputs": [],
   "source": [
    "tags = sorted([t for t in tags if t != 'O'], key=lambda x: (x[2], x[0]))\n",
    "tags.append('O')"
   ]
  },
  {
   "cell_type": "code",
   "execution_count": null,
   "metadata": {
    "id": "8Ng1XB0nwIN3"
   },
   "outputs": [],
   "source": [
    "word2idx = {w: i for i, w in enumerate(words)}\n",
    "tag2idx = {t: i for i, t in enumerate(tags)}"
   ]
  },
  {
   "cell_type": "code",
   "execution_count": null,
   "metadata": {
    "colab": {
     "base_uri": "https://localhost:8080/",
     "height": 382
    },
    "id": "U_S5jQ6WwIN7",
    "outputId": "662cf057-47fc-48e8-bc65-5061c5d064de"
   },
   "outputs": [
    {
     "data": {
      "text/plain": [
       "{'B-LOCATION': 0,\n",
       " 'B-ORGANIZATION': 4,\n",
       " 'B-PERSON': 8,\n",
       " 'B-QUANTITY': 12,\n",
       " 'B-TIME': 16,\n",
       " 'I-LOCATION': 1,\n",
       " 'I-ORGANIZATION': 5,\n",
       " 'I-PERSON': 9,\n",
       " 'I-QUANTITY': 13,\n",
       " 'I-TIME': 17,\n",
       " 'L-LOCATION': 2,\n",
       " 'L-ORGANIZATION': 6,\n",
       " 'L-PERSON': 10,\n",
       " 'L-QUANTITY': 14,\n",
       " 'L-TIME': 18,\n",
       " 'O': 20,\n",
       " 'U-LOCATION': 3,\n",
       " 'U-ORGANIZATION': 7,\n",
       " 'U-PERSON': 11,\n",
       " 'U-QUANTITY': 15,\n",
       " 'U-TIME': 19}"
      ]
     },
     "execution_count": 15,
     "metadata": {
      "tags": []
     },
     "output_type": "execute_result"
    }
   ],
   "source": [
    "tag2idx"
   ]
  },
  {
   "cell_type": "markdown",
   "metadata": {
    "id": "wB7wOlZ0wIOB"
   },
   "source": [
    "### Pad Sequence"
   ]
  },
  {
   "cell_type": "code",
   "execution_count": null,
   "metadata": {
    "id": "g4nz_7UnwIOC"
   },
   "outputs": [],
   "source": [
    "max_len = 40\n",
    "X = [[word2idx[w[0]] for w in s] for s in sentences]\n",
    "X = pad_sequences(maxlen=max_len, sequences=X, padding='post', value=num_words-1)\n",
    "\n",
    "y = [[tag2idx[w[1]] for w in s] for s in sentences]\n",
    "y = pad_sequences(maxlen=max_len, sequences=y, padding='post', value=tag2idx['O'])\n",
    "y = [to_categorical(i, num_classes=num_tags) for i in y]"
   ]
  },
  {
   "cell_type": "code",
   "execution_count": null,
   "metadata": {
    "id": "YO6TU5s-wIOG"
   },
   "outputs": [],
   "source": [
    "x_train, x_val_test, y_train, y_val_test = train_test_split(X, y, test_size=0.3, random_state=1)\n",
    "x_val, x_test, y_val, y_test = train_test_split(x_val_test, y_val_test, test_size=0.5, random_state=1)"
   ]
  },
  {
   "cell_type": "markdown",
   "metadata": {
    "id": "OIdRq0rfwIOL"
   },
   "source": [
    "### Pre-trained Word2Vec Embedding"
   ]
  },
  {
   "cell_type": "code",
   "execution_count": null,
   "metadata": {
    "id": "Q_XsOmLVwIOM"
   },
   "outputs": [],
   "source": [
    "model = gensim.models.Word2Vec.load(\"../checkpoint/w2vec_wiki_id_case\")"
   ]
  },
  {
   "cell_type": "code",
   "execution_count": null,
   "metadata": {
    "id": "EEKTP6CBwIOR"
   },
   "outputs": [],
   "source": [
    "embedding_matrix = np.zeros((len(words), 400))\n",
    "\n",
    "for i, w in enumerate(words):\n",
    "    try:\n",
    "        embedding_vector = model.wv[w]\n",
    "        embedding_matrix[i] = embedding_vector\n",
    "    except:\n",
    "        embedding_matrix[i] = np.random.normal(0, np.sqrt(0.25), 400)"
   ]
  },
  {
   "cell_type": "markdown",
   "metadata": {
    "id": "UxuWH4t4wIOV"
   },
   "source": [
    "Initial parameters"
   ]
  },
  {
   "cell_type": "code",
   "execution_count": null,
   "metadata": {
    "id": "dZhcVMn6papG"
   },
   "outputs": [],
   "source": [
    "def f1_score_micro(y_true, y_pred):\n",
    "    y_true = np.argmax(y_true.numpy(), axis=-1).reshape(-1)\n",
    "    y_pred = np.argmax(y_pred.numpy(), axis=-1).reshape(-1)\n",
    "    \n",
    "    # label O will be ignored during training and evaluation\n",
    "    o_pad_idx = np.where(y_true==20) # 20 is the idx for label O\n",
    "    \n",
    "    # remove label O\n",
    "    y_true = np.delete(y_true, o_pad_idx)\n",
    "    y_pred = np.delete(y_pred, o_pad_idx)\n",
    "    \n",
    "    # compute f1 score with micro average\n",
    "    score = f1_score(y_true, y_pred, average='micro')\n",
    "    \n",
    "    return score"
   ]
  },
  {
   "cell_type": "code",
   "execution_count": null,
   "metadata": {
    "id": "O7TVjkcxpSel"
   },
   "outputs": [],
   "source": [
    "def create_model(x_train, y_train, x_val, y_val, params):\n",
    "    input_sequence = Input(shape=(max_len, ))\n",
    "    \n",
    "    model = Embedding(\n",
    "        input_dim= embedding_matrix.shape[0], \n",
    "        weights=[embedding_matrix], \n",
    "        output_dim=embedding_matrix.shape[1], \n",
    "        input_length=max_len,\n",
    "        trainable=False\n",
    "    )(input_sequence)\n",
    "    \n",
    "    # dropout layer\n",
    "    model = SpatialDropout1D(params['dropout'])(model)\n",
    "            \n",
    "    # lstm layer\n",
    "    model = Bidirectional(LSTM(units=params['lstm_units'], return_sequences=True))(model)\n",
    "\n",
    "    # convolution layer\n",
    "    model = Conv1D(params['filters'], params['filter_size'], activation='relu', padding='same')(model)\n",
    "    \n",
    "    # output layer\n",
    "    output_sequence = Dense(num_tags, activation='softmax')(model)\n",
    "    \n",
    "    # model\n",
    "    model = Model(input_sequence, output_sequence)\n",
    "    \n",
    "    # learning algorithm (optimizer)\n",
    "    if params['optimizer'] == 'Nadam':\n",
    "        optm = tf.keras.optimizers.Nadam(lr=params['lr'])\n",
    "        \n",
    "    if params['optimizer'] == 'Adam':\n",
    "        optm = tf.keras.optimizers.Adam(lr=params['lr'])\n",
    "        \n",
    "    if params['optimizer'] == 'RMSprop':\n",
    "        optm = tf.keras.optimizers.RMSprop(lr=params['lr'])\n",
    "    \n",
    "    loss = tf.keras.losses.CategoricalCrossentropy()\n",
    "\n",
    "    model.compile(loss=loss, optimizer=optm, metrics=[f1_score_micro], run_eagerly=True)\n",
    "\n",
    "    early_stopping = tf.keras.callbacks.EarlyStopping(patience=10, monitor='val_f1_score_micro', mode='max')\n",
    "\n",
    "    history = model.fit(\n",
    "      x_train, np.array(y_train),\n",
    "      validation_data=(x_val, np.array(y_val)),\n",
    "      epochs=100, verbose=1, callbacks=[early_stopping], batch_size=params['batch_size']\n",
    "    )\n",
    "\n",
    "    return history, model"
   ]
  },
  {
   "cell_type": "code",
   "execution_count": null,
   "metadata": {
    "id": "wmYoE6yrwIOW"
   },
   "outputs": [],
   "source": [
    "params = {\n",
    "    'optimizer': ['Adam'],\n",
    "    'lr': [0.01],\n",
    "    'lstm_units': [50],\n",
    "    'filters': [64],\n",
    "    'filter_size': [3],\n",
    "    'dropout': [0.1, 0.3, 0.5, 0.7],\n",
    "    'batch_size': [128]\n",
    "}"
   ]
  },
  {
   "cell_type": "code",
   "execution_count": null,
   "metadata": {
    "colab": {
     "base_uri": "https://localhost:8080/",
     "height": 139
    },
    "id": "HMPKPMWjHQLm",
    "outputId": "efda1280-4652-4473-d02d-87b0f01ff612"
   },
   "outputs": [
    {
     "data": {
      "text/plain": [
       "{'batch_size': [128],\n",
       " 'dropout': [0.1, 0.3, 0.5, 0.7],\n",
       " 'filter_size': [3],\n",
       " 'filters': [64],\n",
       " 'lr': [0.01],\n",
       " 'lstm_units': [50],\n",
       " 'optimizer': ['Adam']}"
      ]
     },
     "execution_count": 36,
     "metadata": {
      "tags": []
     },
     "output_type": "execute_result"
    }
   ],
   "source": [
    "params"
   ]
  },
  {
   "cell_type": "code",
   "execution_count": null,
   "metadata": {
    "colab": {
     "base_uri": "https://localhost:8080/",
     "height": 1000
    },
    "id": "FUNdJv6npSba",
    "outputId": "90d22751-76b2-4329-ae23-29320c2a2e54"
   },
   "outputs": [
    {
     "name": "stderr",
     "output_type": "stream",
     "text": [
      "\r",
      "  0%|          | 0/4 [00:00<?, ?it/s]"
     ]
    },
    {
     "name": "stdout",
     "output_type": "stream",
     "text": [
      "Epoch 1/100\n",
      "27/27 [==============================] - 2s 59ms/step - loss: 0.5819 - f1_score_micro: 0.0106 - val_loss: 0.3570 - val_f1_score_micro: 0.0281\n",
      "Epoch 2/100\n",
      "27/27 [==============================] - 2s 60ms/step - loss: 0.3169 - f1_score_micro: 0.0695 - val_loss: 0.2551 - val_f1_score_micro: 0.2021\n",
      "Epoch 3/100\n",
      "27/27 [==============================] - 2s 61ms/step - loss: 0.2097 - f1_score_micro: 0.3717 - val_loss: 0.1775 - val_f1_score_micro: 0.4791\n",
      "Epoch 4/100\n",
      "27/27 [==============================] - 2s 61ms/step - loss: 0.1455 - f1_score_micro: 0.5764 - val_loss: 0.1445 - val_f1_score_micro: 0.6225\n",
      "Epoch 5/100\n",
      "27/27 [==============================] - 2s 60ms/step - loss: 0.1154 - f1_score_micro: 0.6691 - val_loss: 0.1297 - val_f1_score_micro: 0.6764\n",
      "Epoch 6/100\n",
      "27/27 [==============================] - 2s 60ms/step - loss: 0.0974 - f1_score_micro: 0.7262 - val_loss: 0.1256 - val_f1_score_micro: 0.6721\n",
      "Epoch 7/100\n",
      "27/27 [==============================] - 2s 61ms/step - loss: 0.0839 - f1_score_micro: 0.7639 - val_loss: 0.1197 - val_f1_score_micro: 0.6700\n",
      "Epoch 8/100\n",
      "27/27 [==============================] - 2s 61ms/step - loss: 0.0718 - f1_score_micro: 0.7997 - val_loss: 0.1196 - val_f1_score_micro: 0.6825\n",
      "Epoch 9/100\n",
      "27/27 [==============================] - 2s 61ms/step - loss: 0.0639 - f1_score_micro: 0.8243 - val_loss: 0.1226 - val_f1_score_micro: 0.6678\n",
      "Epoch 10/100\n",
      "27/27 [==============================] - 2s 61ms/step - loss: 0.0571 - f1_score_micro: 0.8403 - val_loss: 0.1229 - val_f1_score_micro: 0.6952\n",
      "Epoch 11/100\n",
      "27/27 [==============================] - 2s 60ms/step - loss: 0.0505 - f1_score_micro: 0.8610 - val_loss: 0.1277 - val_f1_score_micro: 0.7487\n",
      "Epoch 12/100\n",
      "27/27 [==============================] - 2s 62ms/step - loss: 0.0452 - f1_score_micro: 0.8799 - val_loss: 0.1303 - val_f1_score_micro: 0.6972\n",
      "Epoch 13/100\n",
      "27/27 [==============================] - 2s 63ms/step - loss: 0.0385 - f1_score_micro: 0.8967 - val_loss: 0.1355 - val_f1_score_micro: 0.7364\n",
      "Epoch 14/100\n",
      "27/27 [==============================] - 2s 62ms/step - loss: 0.0340 - f1_score_micro: 0.9105 - val_loss: 0.1377 - val_f1_score_micro: 0.7322\n",
      "Epoch 15/100\n",
      "27/27 [==============================] - 2s 63ms/step - loss: 0.0306 - f1_score_micro: 0.9177 - val_loss: 0.1481 - val_f1_score_micro: 0.7180\n",
      "Epoch 16/100\n",
      "27/27 [==============================] - 2s 60ms/step - loss: 0.0274 - f1_score_micro: 0.9268 - val_loss: 0.1445 - val_f1_score_micro: 0.7168\n",
      "Epoch 17/100\n",
      "27/27 [==============================] - 2s 60ms/step - loss: 0.0242 - f1_score_micro: 0.9362 - val_loss: 0.1501 - val_f1_score_micro: 0.7179\n",
      "Epoch 18/100\n",
      "27/27 [==============================] - 2s 62ms/step - loss: 0.0217 - f1_score_micro: 0.9442 - val_loss: 0.1536 - val_f1_score_micro: 0.7395\n",
      "Epoch 19/100\n",
      "27/27 [==============================] - 2s 62ms/step - loss: 0.0190 - f1_score_micro: 0.9503 - val_loss: 0.1565 - val_f1_score_micro: 0.7260\n",
      "Epoch 20/100\n",
      "27/27 [==============================] - 2s 61ms/step - loss: 0.0171 - f1_score_micro: 0.9569 - val_loss: 0.1797 - val_f1_score_micro: 0.6927\n",
      "Epoch 21/100\n",
      "27/27 [==============================] - 2s 62ms/step - loss: 0.0183 - f1_score_micro: 0.9513 - val_loss: 0.1668 - val_f1_score_micro: 0.7316\n"
     ]
    },
    {
     "name": "stderr",
     "output_type": "stream",
     "text": [
      "\r",
      " 25%|██▌       | 1/4 [00:36<01:50, 36.98s/it]"
     ]
    },
    {
     "name": "stdout",
     "output_type": "stream",
     "text": [
      "Epoch 1/100\n",
      "27/27 [==============================] - 2s 62ms/step - loss: 0.6123 - f1_score_micro: 0.0020 - val_loss: 0.3744 - val_f1_score_micro: 0.0012\n",
      "Epoch 2/100\n",
      "27/27 [==============================] - 2s 59ms/step - loss: 0.3423 - f1_score_micro: 0.0350 - val_loss: 0.2891 - val_f1_score_micro: 0.1204\n",
      "Epoch 3/100\n",
      "27/27 [==============================] - 2s 60ms/step - loss: 0.2500 - f1_score_micro: 0.2384 - val_loss: 0.2008 - val_f1_score_micro: 0.3926\n",
      "Epoch 4/100\n",
      "27/27 [==============================] - 2s 62ms/step - loss: 0.1774 - f1_score_micro: 0.4645 - val_loss: 0.1565 - val_f1_score_micro: 0.5354\n",
      "Epoch 5/100\n",
      "27/27 [==============================] - 2s 60ms/step - loss: 0.1411 - f1_score_micro: 0.5827 - val_loss: 0.1400 - val_f1_score_micro: 0.5941\n",
      "Epoch 6/100\n",
      "27/27 [==============================] - 2s 61ms/step - loss: 0.1190 - f1_score_micro: 0.6567 - val_loss: 0.1300 - val_f1_score_micro: 0.5886\n",
      "Epoch 7/100\n",
      "27/27 [==============================] - 2s 63ms/step - loss: 0.1039 - f1_score_micro: 0.6992 - val_loss: 0.1207 - val_f1_score_micro: 0.7165\n",
      "Epoch 8/100\n",
      "27/27 [==============================] - 2s 61ms/step - loss: 0.0945 - f1_score_micro: 0.7369 - val_loss: 0.1144 - val_f1_score_micro: 0.6925\n",
      "Epoch 9/100\n",
      "27/27 [==============================] - 2s 59ms/step - loss: 0.0849 - f1_score_micro: 0.7607 - val_loss: 0.1134 - val_f1_score_micro: 0.7185\n",
      "Epoch 10/100\n",
      "27/27 [==============================] - 2s 58ms/step - loss: 0.0775 - f1_score_micro: 0.7837 - val_loss: 0.1182 - val_f1_score_micro: 0.7099\n",
      "Epoch 11/100\n",
      "27/27 [==============================] - 2s 57ms/step - loss: 0.0723 - f1_score_micro: 0.7976 - val_loss: 0.1163 - val_f1_score_micro: 0.7359\n",
      "Epoch 12/100\n",
      "27/27 [==============================] - 2s 57ms/step - loss: 0.0652 - f1_score_micro: 0.8156 - val_loss: 0.1189 - val_f1_score_micro: 0.7251\n",
      "Epoch 13/100\n",
      "27/27 [==============================] - 2s 59ms/step - loss: 0.0602 - f1_score_micro: 0.8362 - val_loss: 0.1179 - val_f1_score_micro: 0.7435\n",
      "Epoch 14/100\n",
      "27/27 [==============================] - 2s 56ms/step - loss: 0.0566 - f1_score_micro: 0.8403 - val_loss: 0.1217 - val_f1_score_micro: 0.7163\n",
      "Epoch 15/100\n",
      "27/27 [==============================] - 2s 57ms/step - loss: 0.0530 - f1_score_micro: 0.8562 - val_loss: 0.1222 - val_f1_score_micro: 0.7196\n",
      "Epoch 16/100\n",
      "27/27 [==============================] - 2s 56ms/step - loss: 0.0477 - f1_score_micro: 0.8724 - val_loss: 0.1287 - val_f1_score_micro: 0.6989\n",
      "Epoch 17/100\n",
      "27/27 [==============================] - 2s 57ms/step - loss: 0.0444 - f1_score_micro: 0.8775 - val_loss: 0.1311 - val_f1_score_micro: 0.7525\n",
      "Epoch 18/100\n",
      "27/27 [==============================] - 2s 57ms/step - loss: 0.0409 - f1_score_micro: 0.8877 - val_loss: 0.1353 - val_f1_score_micro: 0.7554\n",
      "Epoch 19/100\n",
      "27/27 [==============================] - 2s 58ms/step - loss: 0.0393 - f1_score_micro: 0.8930 - val_loss: 0.1396 - val_f1_score_micro: 0.7022\n",
      "Epoch 20/100\n",
      "27/27 [==============================] - 2s 56ms/step - loss: 0.0367 - f1_score_micro: 0.8965 - val_loss: 0.1380 - val_f1_score_micro: 0.7389\n",
      "Epoch 21/100\n",
      "27/27 [==============================] - 2s 57ms/step - loss: 0.0335 - f1_score_micro: 0.9084 - val_loss: 0.1395 - val_f1_score_micro: 0.7506\n",
      "Epoch 22/100\n",
      "27/27 [==============================] - 2s 57ms/step - loss: 0.0319 - f1_score_micro: 0.9136 - val_loss: 0.1444 - val_f1_score_micro: 0.7303\n",
      "Epoch 23/100\n",
      "27/27 [==============================] - 2s 57ms/step - loss: 0.0295 - f1_score_micro: 0.9186 - val_loss: 0.1519 - val_f1_score_micro: 0.7475\n",
      "Epoch 24/100\n",
      "27/27 [==============================] - 2s 57ms/step - loss: 0.0276 - f1_score_micro: 0.9247 - val_loss: 0.1550 - val_f1_score_micro: 0.6987\n",
      "Epoch 25/100\n",
      "27/27 [==============================] - 1s 55ms/step - loss: 0.0264 - f1_score_micro: 0.9267 - val_loss: 0.1509 - val_f1_score_micro: 0.7347\n",
      "Epoch 26/100\n",
      "27/27 [==============================] - 2s 58ms/step - loss: 0.0251 - f1_score_micro: 0.9307 - val_loss: 0.1613 - val_f1_score_micro: 0.7226\n",
      "Epoch 27/100\n",
      "27/27 [==============================] - 1s 55ms/step - loss: 0.0225 - f1_score_micro: 0.9416 - val_loss: 0.1661 - val_f1_score_micro: 0.7347\n",
      "Epoch 28/100\n",
      "27/27 [==============================] - 1s 55ms/step - loss: 0.0220 - f1_score_micro: 0.9377 - val_loss: 0.1689 - val_f1_score_micro: 0.7451\n"
     ]
    },
    {
     "name": "stderr",
     "output_type": "stream",
     "text": [
      "\r",
      " 50%|█████     | 2/4 [01:23<01:19, 39.91s/it]"
     ]
    },
    {
     "name": "stdout",
     "output_type": "stream",
     "text": [
      "Epoch 1/100\n",
      "27/27 [==============================] - 2s 56ms/step - loss: 0.5875 - f1_score_micro: 0.0029 - val_loss: 0.3688 - val_f1_score_micro: 0.0056\n",
      "Epoch 2/100\n",
      "27/27 [==============================] - 1s 56ms/step - loss: 0.3398 - f1_score_micro: 0.0295 - val_loss: 0.2861 - val_f1_score_micro: 0.0640\n",
      "Epoch 3/100\n",
      "27/27 [==============================] - 1s 55ms/step - loss: 0.2493 - f1_score_micro: 0.2292 - val_loss: 0.1970 - val_f1_score_micro: 0.3985\n",
      "Epoch 4/100\n",
      "27/27 [==============================] - 2s 57ms/step - loss: 0.1848 - f1_score_micro: 0.4581 - val_loss: 0.1575 - val_f1_score_micro: 0.5241\n",
      "Epoch 5/100\n",
      "27/27 [==============================] - 2s 58ms/step - loss: 0.1510 - f1_score_micro: 0.5572 - val_loss: 0.1389 - val_f1_score_micro: 0.5583\n",
      "Epoch 6/100\n",
      "27/27 [==============================] - 2s 60ms/step - loss: 0.1340 - f1_score_micro: 0.6088 - val_loss: 0.1279 - val_f1_score_micro: 0.6404\n",
      "Epoch 7/100\n",
      "27/27 [==============================] - 2s 59ms/step - loss: 0.1207 - f1_score_micro: 0.6510 - val_loss: 0.1241 - val_f1_score_micro: 0.6955\n",
      "Epoch 8/100\n",
      "27/27 [==============================] - 2s 58ms/step - loss: 0.1112 - f1_score_micro: 0.6801 - val_loss: 0.1189 - val_f1_score_micro: 0.6940\n",
      "Epoch 9/100\n",
      "27/27 [==============================] - 2s 59ms/step - loss: 0.1017 - f1_score_micro: 0.7126 - val_loss: 0.1191 - val_f1_score_micro: 0.6514\n",
      "Epoch 10/100\n",
      "27/27 [==============================] - 2s 59ms/step - loss: 0.0971 - f1_score_micro: 0.7211 - val_loss: 0.1186 - val_f1_score_micro: 0.7175\n",
      "Epoch 11/100\n",
      "27/27 [==============================] - 2s 56ms/step - loss: 0.0889 - f1_score_micro: 0.7445 - val_loss: 0.1130 - val_f1_score_micro: 0.7210\n",
      "Epoch 12/100\n",
      "27/27 [==============================] - 2s 56ms/step - loss: 0.0839 - f1_score_micro: 0.7638 - val_loss: 0.1112 - val_f1_score_micro: 0.7508\n",
      "Epoch 13/100\n",
      "27/27 [==============================] - 1s 55ms/step - loss: 0.0799 - f1_score_micro: 0.7751 - val_loss: 0.1077 - val_f1_score_micro: 0.7200\n",
      "Epoch 14/100\n",
      "27/27 [==============================] - 2s 57ms/step - loss: 0.0773 - f1_score_micro: 0.7780 - val_loss: 0.1125 - val_f1_score_micro: 0.7333\n",
      "Epoch 15/100\n",
      "27/27 [==============================] - 1s 55ms/step - loss: 0.0747 - f1_score_micro: 0.7848 - val_loss: 0.1120 - val_f1_score_micro: 0.7626\n",
      "Epoch 16/100\n",
      "27/27 [==============================] - 2s 58ms/step - loss: 0.0701 - f1_score_micro: 0.8066 - val_loss: 0.1187 - val_f1_score_micro: 0.7218\n",
      "Epoch 17/100\n",
      "27/27 [==============================] - 1s 55ms/step - loss: 0.0662 - f1_score_micro: 0.8131 - val_loss: 0.1178 - val_f1_score_micro: 0.7368\n",
      "Epoch 18/100\n",
      "27/27 [==============================] - 2s 58ms/step - loss: 0.0626 - f1_score_micro: 0.8217 - val_loss: 0.1231 - val_f1_score_micro: 0.7402\n",
      "Epoch 19/100\n",
      "27/27 [==============================] - 2s 60ms/step - loss: 0.0609 - f1_score_micro: 0.8275 - val_loss: 0.1277 - val_f1_score_micro: 0.7418\n",
      "Epoch 20/100\n",
      "27/27 [==============================] - 2s 60ms/step - loss: 0.0587 - f1_score_micro: 0.8342 - val_loss: 0.1214 - val_f1_score_micro: 0.7533\n",
      "Epoch 21/100\n",
      "27/27 [==============================] - 2s 60ms/step - loss: 0.0568 - f1_score_micro: 0.8438 - val_loss: 0.1266 - val_f1_score_micro: 0.7461\n",
      "Epoch 22/100\n",
      "27/27 [==============================] - 2s 57ms/step - loss: 0.0554 - f1_score_micro: 0.8420 - val_loss: 0.1285 - val_f1_score_micro: 0.7756\n",
      "Epoch 23/100\n",
      "27/27 [==============================] - 2s 59ms/step - loss: 0.0530 - f1_score_micro: 0.8538 - val_loss: 0.1263 - val_f1_score_micro: 0.7506\n",
      "Epoch 24/100\n",
      "27/27 [==============================] - 2s 61ms/step - loss: 0.0506 - f1_score_micro: 0.8571 - val_loss: 0.1285 - val_f1_score_micro: 0.7566\n",
      "Epoch 25/100\n",
      "27/27 [==============================] - 2s 59ms/step - loss: 0.0494 - f1_score_micro: 0.8617 - val_loss: 0.1388 - val_f1_score_micro: 0.7635\n",
      "Epoch 26/100\n",
      "27/27 [==============================] - 2s 59ms/step - loss: 0.0468 - f1_score_micro: 0.8727 - val_loss: 0.1311 - val_f1_score_micro: 0.7395\n",
      "Epoch 27/100\n",
      "27/27 [==============================] - 2s 59ms/step - loss: 0.0443 - f1_score_micro: 0.8772 - val_loss: 0.1425 - val_f1_score_micro: 0.7467\n",
      "Epoch 28/100\n",
      "27/27 [==============================] - 2s 59ms/step - loss: 0.0442 - f1_score_micro: 0.8754 - val_loss: 0.1391 - val_f1_score_micro: 0.7457\n",
      "Epoch 29/100\n",
      "27/27 [==============================] - 2s 59ms/step - loss: 0.0443 - f1_score_micro: 0.8754 - val_loss: 0.1446 - val_f1_score_micro: 0.7489\n",
      "Epoch 30/100\n",
      "27/27 [==============================] - 2s 60ms/step - loss: 0.0410 - f1_score_micro: 0.8835 - val_loss: 0.1408 - val_f1_score_micro: 0.7491\n",
      "Epoch 31/100\n",
      "27/27 [==============================] - 2s 60ms/step - loss: 0.0411 - f1_score_micro: 0.8860 - val_loss: 0.1413 - val_f1_score_micro: 0.7716\n",
      "Epoch 32/100\n",
      "27/27 [==============================] - 2s 60ms/step - loss: 0.0394 - f1_score_micro: 0.8903 - val_loss: 0.1424 - val_f1_score_micro: 0.7649\n"
     ]
    },
    {
     "name": "stderr",
     "output_type": "stream",
     "text": [
      "\r",
      " 75%|███████▌  | 3/4 [02:16<00:43, 43.89s/it]"
     ]
    },
    {
     "name": "stdout",
     "output_type": "stream",
     "text": [
      "Epoch 1/100\n",
      "27/27 [==============================] - 2s 59ms/step - loss: 0.6312 - f1_score_micro: 0.0023 - val_loss: 0.3763 - val_f1_score_micro: 0.0118\n",
      "Epoch 2/100\n",
      "27/27 [==============================] - 2s 59ms/step - loss: 0.3564 - f1_score_micro: 0.0311 - val_loss: 0.2910 - val_f1_score_micro: 0.1247\n",
      "Epoch 3/100\n",
      "27/27 [==============================] - 2s 60ms/step - loss: 0.2651 - f1_score_micro: 0.2046 - val_loss: 0.2041 - val_f1_score_micro: 0.3980\n",
      "Epoch 4/100\n",
      "27/27 [==============================] - 2s 61ms/step - loss: 0.2051 - f1_score_micro: 0.3882 - val_loss: 0.1669 - val_f1_score_micro: 0.5294\n",
      "Epoch 5/100\n",
      "27/27 [==============================] - 2s 60ms/step - loss: 0.1837 - f1_score_micro: 0.4588 - val_loss: 0.1498 - val_f1_score_micro: 0.5839\n",
      "Epoch 6/100\n",
      "27/27 [==============================] - 2s 60ms/step - loss: 0.1663 - f1_score_micro: 0.5107 - val_loss: 0.1373 - val_f1_score_micro: 0.5581\n",
      "Epoch 7/100\n",
      "27/27 [==============================] - 2s 60ms/step - loss: 0.1561 - f1_score_micro: 0.5412 - val_loss: 0.1289 - val_f1_score_micro: 0.6319\n",
      "Epoch 8/100\n",
      "27/27 [==============================] - 2s 60ms/step - loss: 0.1485 - f1_score_micro: 0.5589 - val_loss: 0.1245 - val_f1_score_micro: 0.5888\n",
      "Epoch 9/100\n",
      "27/27 [==============================] - 2s 59ms/step - loss: 0.1379 - f1_score_micro: 0.5941 - val_loss: 0.1190 - val_f1_score_micro: 0.6732\n",
      "Epoch 10/100\n",
      "27/27 [==============================] - 2s 60ms/step - loss: 0.1301 - f1_score_micro: 0.6170 - val_loss: 0.1157 - val_f1_score_micro: 0.6621\n",
      "Epoch 11/100\n",
      "27/27 [==============================] - 2s 61ms/step - loss: 0.1279 - f1_score_micro: 0.6237 - val_loss: 0.1151 - val_f1_score_micro: 0.6858\n",
      "Epoch 12/100\n",
      "27/27 [==============================] - 2s 60ms/step - loss: 0.1211 - f1_score_micro: 0.6516 - val_loss: 0.1113 - val_f1_score_micro: 0.7317\n",
      "Epoch 13/100\n",
      "27/27 [==============================] - 2s 60ms/step - loss: 0.1166 - f1_score_micro: 0.6639 - val_loss: 0.1114 - val_f1_score_micro: 0.7235\n",
      "Epoch 14/100\n",
      "27/27 [==============================] - 2s 59ms/step - loss: 0.1124 - f1_score_micro: 0.6786 - val_loss: 0.1069 - val_f1_score_micro: 0.6924\n",
      "Epoch 15/100\n",
      "27/27 [==============================] - 2s 61ms/step - loss: 0.1100 - f1_score_micro: 0.6829 - val_loss: 0.1059 - val_f1_score_micro: 0.7545\n",
      "Epoch 16/100\n",
      "27/27 [==============================] - 2s 60ms/step - loss: 0.1077 - f1_score_micro: 0.6972 - val_loss: 0.1037 - val_f1_score_micro: 0.7466\n",
      "Epoch 17/100\n",
      "27/27 [==============================] - 2s 60ms/step - loss: 0.1044 - f1_score_micro: 0.6973 - val_loss: 0.1067 - val_f1_score_micro: 0.7489\n",
      "Epoch 18/100\n",
      "27/27 [==============================] - 2s 59ms/step - loss: 0.0997 - f1_score_micro: 0.7110 - val_loss: 0.1073 - val_f1_score_micro: 0.7597\n",
      "Epoch 19/100\n",
      "27/27 [==============================] - 2s 59ms/step - loss: 0.0993 - f1_score_micro: 0.7130 - val_loss: 0.1025 - val_f1_score_micro: 0.7440\n",
      "Epoch 20/100\n",
      "27/27 [==============================] - 2s 61ms/step - loss: 0.0954 - f1_score_micro: 0.7273 - val_loss: 0.1056 - val_f1_score_micro: 0.7529\n",
      "Epoch 21/100\n",
      "27/27 [==============================] - 2s 58ms/step - loss: 0.0928 - f1_score_micro: 0.7324 - val_loss: 0.1026 - val_f1_score_micro: 0.7614\n",
      "Epoch 22/100\n",
      "27/27 [==============================] - 2s 60ms/step - loss: 0.0901 - f1_score_micro: 0.7455 - val_loss: 0.1034 - val_f1_score_micro: 0.7585\n",
      "Epoch 23/100\n",
      "27/27 [==============================] - 2s 61ms/step - loss: 0.0907 - f1_score_micro: 0.7381 - val_loss: 0.1007 - val_f1_score_micro: 0.7506\n",
      "Epoch 24/100\n",
      "27/27 [==============================] - 2s 60ms/step - loss: 0.0901 - f1_score_micro: 0.7393 - val_loss: 0.1068 - val_f1_score_micro: 0.7886\n",
      "Epoch 25/100\n",
      "27/27 [==============================] - 2s 61ms/step - loss: 0.0854 - f1_score_micro: 0.7554 - val_loss: 0.1050 - val_f1_score_micro: 0.7799\n",
      "Epoch 26/100\n",
      "27/27 [==============================] - 2s 61ms/step - loss: 0.0855 - f1_score_micro: 0.7571 - val_loss: 0.1021 - val_f1_score_micro: 0.7660\n",
      "Epoch 27/100\n",
      "27/27 [==============================] - 2s 60ms/step - loss: 0.0833 - f1_score_micro: 0.7598 - val_loss: 0.1051 - val_f1_score_micro: 0.7734\n",
      "Epoch 28/100\n",
      "27/27 [==============================] - 2s 60ms/step - loss: 0.0806 - f1_score_micro: 0.7650 - val_loss: 0.1037 - val_f1_score_micro: 0.7644\n",
      "Epoch 29/100\n",
      "27/27 [==============================] - 2s 59ms/step - loss: 0.0811 - f1_score_micro: 0.7652 - val_loss: 0.1056 - val_f1_score_micro: 0.7939\n",
      "Epoch 30/100\n",
      "27/27 [==============================] - 2s 60ms/step - loss: 0.0803 - f1_score_micro: 0.7715 - val_loss: 0.1104 - val_f1_score_micro: 0.7890\n",
      "Epoch 31/100\n",
      "27/27 [==============================] - 2s 59ms/step - loss: 0.0768 - f1_score_micro: 0.7778 - val_loss: 0.1047 - val_f1_score_micro: 0.7759\n",
      "Epoch 32/100\n",
      "27/27 [==============================] - 2s 60ms/step - loss: 0.0768 - f1_score_micro: 0.7773 - val_loss: 0.1120 - val_f1_score_micro: 0.7843\n",
      "Epoch 33/100\n",
      "27/27 [==============================] - 2s 59ms/step - loss: 0.0744 - f1_score_micro: 0.7858 - val_loss: 0.1089 - val_f1_score_micro: 0.7924\n",
      "Epoch 34/100\n",
      "27/27 [==============================] - 2s 59ms/step - loss: 0.0734 - f1_score_micro: 0.7928 - val_loss: 0.1023 - val_f1_score_micro: 0.7609\n",
      "Epoch 35/100\n",
      "27/27 [==============================] - 2s 60ms/step - loss: 0.0722 - f1_score_micro: 0.7924 - val_loss: 0.1055 - val_f1_score_micro: 0.7613\n",
      "Epoch 36/100\n",
      "27/27 [==============================] - 2s 59ms/step - loss: 0.0730 - f1_score_micro: 0.7953 - val_loss: 0.1114 - val_f1_score_micro: 0.7191\n",
      "Epoch 37/100\n",
      "27/27 [==============================] - 2s 59ms/step - loss: 0.0713 - f1_score_micro: 0.7947 - val_loss: 0.1059 - val_f1_score_micro: 0.7881\n",
      "Epoch 38/100\n",
      "27/27 [==============================] - 2s 62ms/step - loss: 0.0697 - f1_score_micro: 0.8023 - val_loss: 0.1080 - val_f1_score_micro: 0.7796\n",
      "Epoch 39/100\n",
      "27/27 [==============================] - 2s 60ms/step - loss: 0.0682 - f1_score_micro: 0.8056 - val_loss: 0.1097 - val_f1_score_micro: 0.7835\n"
     ]
    },
    {
     "name": "stderr",
     "output_type": "stream",
     "text": [
      "100%|██████████| 4/4 [03:23<00:00, 50.86s/it]\n"
     ]
    }
   ],
   "source": [
    "t = ta.Scan(x=x_train,\n",
    "    y=np.array(y_train),\n",
    "    x_val=x_val,\n",
    "    y_val=np.array(y_val),\n",
    "    model=create_model,\n",
    "    params=params,\n",
    "    experiment_name='bilstm_cnns_w2v_opt_v3', \n",
    "    val_split=None\n",
    ")"
   ]
  },
  {
   "cell_type": "code",
   "execution_count": null,
   "metadata": {
    "id": "ecnGwoOCwzxz"
   },
   "outputs": [],
   "source": []
  },
  {
   "cell_type": "code",
   "execution_count": null,
   "metadata": {
    "colab": {
     "base_uri": "https://localhost:8080/",
     "height": 175
    },
    "id": "FKBOUlANwzvJ",
    "outputId": "80dbf653-8abf-445a-9d43-651ced17f16f"
   },
   "outputs": [
    {
     "data": {
      "text/html": [
       "<div>\n",
       "<style scoped>\n",
       "    .dataframe tbody tr th:only-of-type {\n",
       "        vertical-align: middle;\n",
       "    }\n",
       "\n",
       "    .dataframe tbody tr th {\n",
       "        vertical-align: top;\n",
       "    }\n",
       "\n",
       "    .dataframe thead th {\n",
       "        text-align: right;\n",
       "    }\n",
       "</style>\n",
       "<table border=\"1\" class=\"dataframe\">\n",
       "  <thead>\n",
       "    <tr style=\"text-align: right;\">\n",
       "      <th></th>\n",
       "      <th>loss</th>\n",
       "      <th>f1_score_micro</th>\n",
       "      <th>val_loss</th>\n",
       "      <th>val_f1_score_micro</th>\n",
       "      <th>batch_size</th>\n",
       "    </tr>\n",
       "  </thead>\n",
       "  <tbody>\n",
       "    <tr>\n",
       "      <th>0</th>\n",
       "      <td>0.044741</td>\n",
       "      <td>0.820512</td>\n",
       "      <td>0.083335</td>\n",
       "      <td>0.782582</td>\n",
       "      <td>32</td>\n",
       "    </tr>\n",
       "    <tr>\n",
       "      <th>1</th>\n",
       "      <td>0.032525</td>\n",
       "      <td>0.867605</td>\n",
       "      <td>0.095214</td>\n",
       "      <td>0.771599</td>\n",
       "      <td>64</td>\n",
       "    </tr>\n",
       "    <tr>\n",
       "      <th>2</th>\n",
       "      <td>0.041588</td>\n",
       "      <td>0.820682</td>\n",
       "      <td>0.078860</td>\n",
       "      <td>0.758756</td>\n",
       "      <td>128</td>\n",
       "    </tr>\n",
       "    <tr>\n",
       "      <th>3</th>\n",
       "      <td>0.044483</td>\n",
       "      <td>0.810544</td>\n",
       "      <td>0.080802</td>\n",
       "      <td>0.714837</td>\n",
       "      <td>256</td>\n",
       "    </tr>\n",
       "  </tbody>\n",
       "</table>\n",
       "</div>"
      ],
      "text/plain": [
       "       loss  f1_score_micro  val_loss  val_f1_score_micro  batch_size\n",
       "0  0.044741        0.820512  0.083335            0.782582          32\n",
       "1  0.032525        0.867605  0.095214            0.771599          64\n",
       "2  0.041588        0.820682  0.078860            0.758756         128\n",
       "3  0.044483        0.810544  0.080802            0.714837         256"
      ]
     },
     "execution_count": 53,
     "metadata": {
      "tags": []
     },
     "output_type": "execute_result"
    }
   ],
   "source": [
    "# round 5\n",
    "t.data[['loss', 'f1_score_micro', 'val_loss', 'val_f1_score_micro', 'batch_size']] \\\n",
    "    .sort_values(by=['val_f1_score_micro'], ascending=False)"
   ]
  },
  {
   "cell_type": "code",
   "execution_count": null,
   "metadata": {
    "id": "M2g7NUNPwzs9"
   },
   "outputs": [],
   "source": []
  },
  {
   "cell_type": "code",
   "execution_count": null,
   "metadata": {
    "id": "QQOsOIlPwzp-"
   },
   "outputs": [],
   "source": []
  },
  {
   "cell_type": "code",
   "execution_count": null,
   "metadata": {
    "colab": {
     "base_uri": "https://localhost:8080/",
     "height": 175
    },
    "id": "HEHUe169vuus",
    "outputId": "dff4c159-a181-4181-a561-8c328e74050e"
   },
   "outputs": [
    {
     "data": {
      "text/html": [
       "<div>\n",
       "<style scoped>\n",
       "    .dataframe tbody tr th:only-of-type {\n",
       "        vertical-align: middle;\n",
       "    }\n",
       "\n",
       "    .dataframe tbody tr th {\n",
       "        vertical-align: top;\n",
       "    }\n",
       "\n",
       "    .dataframe thead th {\n",
       "        text-align: right;\n",
       "    }\n",
       "</style>\n",
       "<table border=\"1\" class=\"dataframe\">\n",
       "  <thead>\n",
       "    <tr style=\"text-align: right;\">\n",
       "      <th></th>\n",
       "      <th>loss</th>\n",
       "      <th>f1_score_micro</th>\n",
       "      <th>val_loss</th>\n",
       "      <th>val_f1_score_micro</th>\n",
       "      <th>dropout</th>\n",
       "    </tr>\n",
       "  </thead>\n",
       "  <tbody>\n",
       "    <tr>\n",
       "      <th>3</th>\n",
       "      <td>0.068190</td>\n",
       "      <td>0.805643</td>\n",
       "      <td>0.109679</td>\n",
       "      <td>0.783496</td>\n",
       "      <td>0.7</td>\n",
       "    </tr>\n",
       "    <tr>\n",
       "      <th>2</th>\n",
       "      <td>0.039366</td>\n",
       "      <td>0.890270</td>\n",
       "      <td>0.142401</td>\n",
       "      <td>0.764896</td>\n",
       "      <td>0.5</td>\n",
       "    </tr>\n",
       "    <tr>\n",
       "      <th>1</th>\n",
       "      <td>0.021966</td>\n",
       "      <td>0.937722</td>\n",
       "      <td>0.168943</td>\n",
       "      <td>0.745104</td>\n",
       "      <td>0.3</td>\n",
       "    </tr>\n",
       "    <tr>\n",
       "      <th>0</th>\n",
       "      <td>0.018275</td>\n",
       "      <td>0.951331</td>\n",
       "      <td>0.166790</td>\n",
       "      <td>0.731593</td>\n",
       "      <td>0.1</td>\n",
       "    </tr>\n",
       "  </tbody>\n",
       "</table>\n",
       "</div>"
      ],
      "text/plain": [
       "       loss  f1_score_micro  val_loss  val_f1_score_micro  dropout\n",
       "3  0.068190        0.805643  0.109679            0.783496      0.7\n",
       "2  0.039366        0.890270  0.142401            0.764896      0.5\n",
       "1  0.021966        0.937722  0.168943            0.745104      0.3\n",
       "0  0.018275        0.951331  0.166790            0.731593      0.1"
      ]
     },
     "execution_count": 38,
     "metadata": {
      "tags": []
     },
     "output_type": "execute_result"
    }
   ],
   "source": [
    "# round 4\n",
    "t.data[['loss', 'f1_score_micro', 'val_loss', 'val_f1_score_micro', 'dropout']] \\\n",
    "    .sort_values(by=['val_f1_score_micro'], ascending=False)"
   ]
  },
  {
   "cell_type": "code",
   "execution_count": null,
   "metadata": {
    "id": "9cjiAmF351OS"
   },
   "outputs": [],
   "source": []
  },
  {
   "cell_type": "code",
   "execution_count": null,
   "metadata": {
    "id": "AuWRYned51LS"
   },
   "outputs": [],
   "source": []
  },
  {
   "cell_type": "code",
   "execution_count": null,
   "metadata": {
    "colab": {
     "base_uri": "https://localhost:8080/",
     "height": 426
    },
    "id": "iLAhH3A55zxz",
    "outputId": "29bd6290-4822-41bd-f083-e7fdb105a6f6"
   },
   "outputs": [
    {
     "data": {
      "text/html": [
       "<div>\n",
       "<style scoped>\n",
       "    .dataframe tbody tr th:only-of-type {\n",
       "        vertical-align: middle;\n",
       "    }\n",
       "\n",
       "    .dataframe tbody tr th {\n",
       "        vertical-align: top;\n",
       "    }\n",
       "\n",
       "    .dataframe thead th {\n",
       "        text-align: right;\n",
       "    }\n",
       "</style>\n",
       "<table border=\"1\" class=\"dataframe\">\n",
       "  <thead>\n",
       "    <tr style=\"text-align: right;\">\n",
       "      <th></th>\n",
       "      <th>loss</th>\n",
       "      <th>f1_score_micro</th>\n",
       "      <th>val_loss</th>\n",
       "      <th>val_f1_score_micro</th>\n",
       "      <th>filters</th>\n",
       "      <th>filter_size</th>\n",
       "    </tr>\n",
       "  </thead>\n",
       "  <tbody>\n",
       "    <tr>\n",
       "      <th>5</th>\n",
       "      <td>0.011246</td>\n",
       "      <td>0.972493</td>\n",
       "      <td>0.174134</td>\n",
       "      <td>0.745754</td>\n",
       "      <td>64</td>\n",
       "      <td>3</td>\n",
       "    </tr>\n",
       "    <tr>\n",
       "      <th>3</th>\n",
       "      <td>0.012673</td>\n",
       "      <td>0.969102</td>\n",
       "      <td>0.185548</td>\n",
       "      <td>0.736608</td>\n",
       "      <td>256</td>\n",
       "      <td>2</td>\n",
       "    </tr>\n",
       "    <tr>\n",
       "      <th>11</th>\n",
       "      <td>0.016430</td>\n",
       "      <td>0.956099</td>\n",
       "      <td>0.180220</td>\n",
       "      <td>0.728741</td>\n",
       "      <td>256</td>\n",
       "      <td>4</td>\n",
       "    </tr>\n",
       "    <tr>\n",
       "      <th>1</th>\n",
       "      <td>0.021444</td>\n",
       "      <td>0.943472</td>\n",
       "      <td>0.178046</td>\n",
       "      <td>0.726668</td>\n",
       "      <td>64</td>\n",
       "      <td>2</td>\n",
       "    </tr>\n",
       "    <tr>\n",
       "      <th>7</th>\n",
       "      <td>0.006171</td>\n",
       "      <td>0.984916</td>\n",
       "      <td>0.236037</td>\n",
       "      <td>0.724983</td>\n",
       "      <td>256</td>\n",
       "      <td>3</td>\n",
       "    </tr>\n",
       "    <tr>\n",
       "      <th>6</th>\n",
       "      <td>0.011119</td>\n",
       "      <td>0.970362</td>\n",
       "      <td>0.202876</td>\n",
       "      <td>0.724653</td>\n",
       "      <td>128</td>\n",
       "      <td>3</td>\n",
       "    </tr>\n",
       "    <tr>\n",
       "      <th>9</th>\n",
       "      <td>0.008628</td>\n",
       "      <td>0.977795</td>\n",
       "      <td>0.192755</td>\n",
       "      <td>0.718315</td>\n",
       "      <td>64</td>\n",
       "      <td>4</td>\n",
       "    </tr>\n",
       "    <tr>\n",
       "      <th>4</th>\n",
       "      <td>0.016980</td>\n",
       "      <td>0.958602</td>\n",
       "      <td>0.172604</td>\n",
       "      <td>0.718132</td>\n",
       "      <td>32</td>\n",
       "      <td>3</td>\n",
       "    </tr>\n",
       "    <tr>\n",
       "      <th>10</th>\n",
       "      <td>0.011190</td>\n",
       "      <td>0.972511</td>\n",
       "      <td>0.176814</td>\n",
       "      <td>0.712981</td>\n",
       "      <td>128</td>\n",
       "      <td>4</td>\n",
       "    </tr>\n",
       "    <tr>\n",
       "      <th>2</th>\n",
       "      <td>0.011189</td>\n",
       "      <td>0.971396</td>\n",
       "      <td>0.194367</td>\n",
       "      <td>0.711627</td>\n",
       "      <td>128</td>\n",
       "      <td>2</td>\n",
       "    </tr>\n",
       "    <tr>\n",
       "      <th>8</th>\n",
       "      <td>0.013303</td>\n",
       "      <td>0.962775</td>\n",
       "      <td>0.203457</td>\n",
       "      <td>0.701533</td>\n",
       "      <td>32</td>\n",
       "      <td>4</td>\n",
       "    </tr>\n",
       "    <tr>\n",
       "      <th>0</th>\n",
       "      <td>0.018206</td>\n",
       "      <td>0.952888</td>\n",
       "      <td>0.189610</td>\n",
       "      <td>0.693128</td>\n",
       "      <td>32</td>\n",
       "      <td>2</td>\n",
       "    </tr>\n",
       "  </tbody>\n",
       "</table>\n",
       "</div>"
      ],
      "text/plain": [
       "        loss  f1_score_micro  ...  filters  filter_size\n",
       "5   0.011246        0.972493  ...       64            3\n",
       "3   0.012673        0.969102  ...      256            2\n",
       "11  0.016430        0.956099  ...      256            4\n",
       "1   0.021444        0.943472  ...       64            2\n",
       "7   0.006171        0.984916  ...      256            3\n",
       "6   0.011119        0.970362  ...      128            3\n",
       "9   0.008628        0.977795  ...       64            4\n",
       "4   0.016980        0.958602  ...       32            3\n",
       "10  0.011190        0.972511  ...      128            4\n",
       "2   0.011189        0.971396  ...      128            2\n",
       "8   0.013303        0.962775  ...       32            4\n",
       "0   0.018206        0.952888  ...       32            2\n",
       "\n",
       "[12 rows x 6 columns]"
      ]
     },
     "execution_count": 34,
     "metadata": {
      "tags": []
     },
     "output_type": "execute_result"
    }
   ],
   "source": [
    "# round 3\n",
    "t.data[['loss', 'f1_score_micro', 'val_loss', 'val_f1_score_micro', 'filters', 'filter_size']] \\\n",
    "    .sort_values(by=['val_f1_score_micro'], ascending=False)"
   ]
  },
  {
   "cell_type": "code",
   "execution_count": null,
   "metadata": {
    "id": "mZv2txoE5zuk"
   },
   "outputs": [],
   "source": []
  },
  {
   "cell_type": "code",
   "execution_count": null,
   "metadata": {
    "id": "i7iI0TPZvur7"
   },
   "outputs": [],
   "source": []
  },
  {
   "cell_type": "code",
   "execution_count": null,
   "metadata": {
    "colab": {
     "base_uri": "https://localhost:8080/",
     "height": 143
    },
    "id": "Ciky0emxuq8E",
    "outputId": "51d1bcfe-742d-4426-c775-c78184d717b0"
   },
   "outputs": [
    {
     "data": {
      "text/html": [
       "<div>\n",
       "<style scoped>\n",
       "    .dataframe tbody tr th:only-of-type {\n",
       "        vertical-align: middle;\n",
       "    }\n",
       "\n",
       "    .dataframe tbody tr th {\n",
       "        vertical-align: top;\n",
       "    }\n",
       "\n",
       "    .dataframe thead th {\n",
       "        text-align: right;\n",
       "    }\n",
       "</style>\n",
       "<table border=\"1\" class=\"dataframe\">\n",
       "  <thead>\n",
       "    <tr style=\"text-align: right;\">\n",
       "      <th></th>\n",
       "      <th>loss</th>\n",
       "      <th>f1_score_micro</th>\n",
       "      <th>val_loss</th>\n",
       "      <th>val_f1_score_micro</th>\n",
       "      <th>lstm_units</th>\n",
       "    </tr>\n",
       "  </thead>\n",
       "  <tbody>\n",
       "    <tr>\n",
       "      <th>0</th>\n",
       "      <td>0.010389</td>\n",
       "      <td>0.972450</td>\n",
       "      <td>0.199703</td>\n",
       "      <td>0.717026</td>\n",
       "      <td>50</td>\n",
       "    </tr>\n",
       "    <tr>\n",
       "      <th>2</th>\n",
       "      <td>0.013843</td>\n",
       "      <td>0.962516</td>\n",
       "      <td>0.175725</td>\n",
       "      <td>0.710149</td>\n",
       "      <td>200</td>\n",
       "    </tr>\n",
       "    <tr>\n",
       "      <th>1</th>\n",
       "      <td>0.004368</td>\n",
       "      <td>0.988726</td>\n",
       "      <td>0.228762</td>\n",
       "      <td>0.704217</td>\n",
       "      <td>100</td>\n",
       "    </tr>\n",
       "  </tbody>\n",
       "</table>\n",
       "</div>"
      ],
      "text/plain": [
       "       loss  f1_score_micro  val_loss  val_f1_score_micro  lstm_units\n",
       "0  0.010389        0.972450  0.199703            0.717026          50\n",
       "2  0.013843        0.962516  0.175725            0.710149         200\n",
       "1  0.004368        0.988726  0.228762            0.704217         100"
      ]
     },
     "execution_count": 30,
     "metadata": {
      "tags": []
     },
     "output_type": "execute_result"
    }
   ],
   "source": [
    "# round 2\n",
    "t.data[['loss', 'f1_score_micro', 'val_loss', 'val_f1_score_micro', 'lstm_units']] \\\n",
    "    .sort_values(by=['val_f1_score_micro'], ascending=False)"
   ]
  },
  {
   "cell_type": "code",
   "execution_count": null,
   "metadata": {
    "id": "idy1gUy9vD7N"
   },
   "outputs": [],
   "source": []
  },
  {
   "cell_type": "code",
   "execution_count": null,
   "metadata": {
    "colab": {
     "base_uri": "https://localhost:8080/",
     "height": 332
    },
    "id": "wxkQSkcipSZB",
    "outputId": "3f10be03-95ea-459d-faf7-a260e76e6695"
   },
   "outputs": [
    {
     "data": {
      "text/html": [
       "<div>\n",
       "<style scoped>\n",
       "    .dataframe tbody tr th:only-of-type {\n",
       "        vertical-align: middle;\n",
       "    }\n",
       "\n",
       "    .dataframe tbody tr th {\n",
       "        vertical-align: top;\n",
       "    }\n",
       "\n",
       "    .dataframe thead th {\n",
       "        text-align: right;\n",
       "    }\n",
       "</style>\n",
       "<table border=\"1\" class=\"dataframe\">\n",
       "  <thead>\n",
       "    <tr style=\"text-align: right;\">\n",
       "      <th></th>\n",
       "      <th>loss</th>\n",
       "      <th>f1_score_micro</th>\n",
       "      <th>val_loss</th>\n",
       "      <th>val_f1_score_micro</th>\n",
       "      <th>optimizer</th>\n",
       "      <th>lr</th>\n",
       "    </tr>\n",
       "  </thead>\n",
       "  <tbody>\n",
       "    <tr>\n",
       "      <th>1</th>\n",
       "      <td>0.007106</td>\n",
       "      <td>0.981749</td>\n",
       "      <td>0.210253</td>\n",
       "      <td>0.737883</td>\n",
       "      <td>Adam</td>\n",
       "      <td>0.0100</td>\n",
       "    </tr>\n",
       "    <tr>\n",
       "      <th>2</th>\n",
       "      <td>0.010357</td>\n",
       "      <td>0.977084</td>\n",
       "      <td>0.215194</td>\n",
       "      <td>0.726728</td>\n",
       "      <td>RMSprop</td>\n",
       "      <td>0.0100</td>\n",
       "    </tr>\n",
       "    <tr>\n",
       "      <th>0</th>\n",
       "      <td>0.005990</td>\n",
       "      <td>0.987432</td>\n",
       "      <td>0.212610</td>\n",
       "      <td>0.711857</td>\n",
       "      <td>Nadam</td>\n",
       "      <td>0.0100</td>\n",
       "    </tr>\n",
       "    <tr>\n",
       "      <th>5</th>\n",
       "      <td>0.017705</td>\n",
       "      <td>0.958183</td>\n",
       "      <td>0.187242</td>\n",
       "      <td>0.688027</td>\n",
       "      <td>RMSprop</td>\n",
       "      <td>0.0010</td>\n",
       "    </tr>\n",
       "    <tr>\n",
       "      <th>4</th>\n",
       "      <td>0.027014</td>\n",
       "      <td>0.931386</td>\n",
       "      <td>0.177369</td>\n",
       "      <td>0.685104</td>\n",
       "      <td>Adam</td>\n",
       "      <td>0.0010</td>\n",
       "    </tr>\n",
       "    <tr>\n",
       "      <th>3</th>\n",
       "      <td>0.041103</td>\n",
       "      <td>0.888974</td>\n",
       "      <td>0.159306</td>\n",
       "      <td>0.621556</td>\n",
       "      <td>Nadam</td>\n",
       "      <td>0.0010</td>\n",
       "    </tr>\n",
       "    <tr>\n",
       "      <th>6</th>\n",
       "      <td>0.136784</td>\n",
       "      <td>0.576052</td>\n",
       "      <td>0.171238</td>\n",
       "      <td>0.528891</td>\n",
       "      <td>Nadam</td>\n",
       "      <td>0.0001</td>\n",
       "    </tr>\n",
       "    <tr>\n",
       "      <th>8</th>\n",
       "      <td>0.115763</td>\n",
       "      <td>0.647499</td>\n",
       "      <td>0.162081</td>\n",
       "      <td>0.513431</td>\n",
       "      <td>RMSprop</td>\n",
       "      <td>0.0001</td>\n",
       "    </tr>\n",
       "    <tr>\n",
       "      <th>7</th>\n",
       "      <td>0.137029</td>\n",
       "      <td>0.574442</td>\n",
       "      <td>0.176208</td>\n",
       "      <td>0.467877</td>\n",
       "      <td>Adam</td>\n",
       "      <td>0.0001</td>\n",
       "    </tr>\n",
       "  </tbody>\n",
       "</table>\n",
       "</div>"
      ],
      "text/plain": [
       "       loss  f1_score_micro  val_loss  val_f1_score_micro optimizer      lr\n",
       "1  0.007106        0.981749  0.210253            0.737883      Adam  0.0100\n",
       "2  0.010357        0.977084  0.215194            0.726728   RMSprop  0.0100\n",
       "0  0.005990        0.987432  0.212610            0.711857     Nadam  0.0100\n",
       "5  0.017705        0.958183  0.187242            0.688027   RMSprop  0.0010\n",
       "4  0.027014        0.931386  0.177369            0.685104      Adam  0.0010\n",
       "3  0.041103        0.888974  0.159306            0.621556     Nadam  0.0010\n",
       "6  0.136784        0.576052  0.171238            0.528891     Nadam  0.0001\n",
       "8  0.115763        0.647499  0.162081            0.513431   RMSprop  0.0001\n",
       "7  0.137029        0.574442  0.176208            0.467877      Adam  0.0001"
      ]
     },
     "execution_count": 26,
     "metadata": {
      "tags": []
     },
     "output_type": "execute_result"
    }
   ],
   "source": [
    "# round 1\n",
    "t.data[['loss', 'f1_score_micro', 'val_loss', 'val_f1_score_micro', 'optimizer', 'lr']] \\\n",
    "    .sort_values(by=['val_f1_score_micro'], ascending=False)"
   ]
  },
  {
   "cell_type": "code",
   "execution_count": null,
   "metadata": {
    "id": "hHwMTvmApSWs"
   },
   "outputs": [],
   "source": []
  }
 ],
 "metadata": {
  "accelerator": "GPU",
  "colab": {
   "collapsed_sections": [],
   "name": "hyper-parameter tuning BiLSTM-CNNs + w2v",
   "provenance": []
  },
  "kernelspec": {
   "display_name": "Python 3",
   "language": "python",
   "name": "python3"
  },
  "language_info": {
   "codemirror_mode": {
    "name": "ipython",
    "version": 3
   },
   "file_extension": ".py",
   "mimetype": "text/x-python",
   "name": "python",
   "nbconvert_exporter": "python",
   "pygments_lexer": "ipython3",
   "version": "3.7.7"
  }
 },
 "nbformat": 4,
 "nbformat_minor": 1
}
