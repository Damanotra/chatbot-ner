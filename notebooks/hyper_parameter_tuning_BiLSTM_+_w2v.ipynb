{
 "cells": [
  {
   "cell_type": "code",
   "execution_count": null,
   "metadata": {
    "id": "P-ricsMdwIND"
   },
   "outputs": [],
   "source": [
    "import tensorflow as tf\n",
    "tf.random.set_seed(1)\n",
    "tf.compat.v1.enable_eager_execution()\n",
    "\n",
    "import numpy as np\n",
    "np.random.seed(1)\n",
    "\n",
    "import gensim\n",
    "import pandas as pd\n",
    "import matplotlib.pyplot as plt\n",
    "import talos as ta\n",
    "\n",
    "from tensorflow.keras.preprocessing.sequence import pad_sequences\n",
    "from tensorflow.keras.utils import to_categorical\n",
    "from tensorflow.keras import Model, Input\n",
    "from tensorflow.keras.layers import LSTM, Embedding, Dense, \\\n",
    "    SpatialDropout1D, Bidirectional, Conv1D, concatenate\n",
    "from tensorflow.keras.callbacks import EarlyStopping\n",
    "from tensorflow.keras.models import load_model\n",
    "from tensorflow.keras.callbacks import Callback\n",
    "\n",
    "from sklearn.model_selection import train_test_split\n",
    "from sklearn.metrics import f1_score, classification_report, confusion_matrix\n",
    "\n",
    "%matplotlib inline"
   ]
  },
  {
   "cell_type": "code",
   "execution_count": null,
   "metadata": {
    "colab": {
     "base_uri": "https://localhost:8080/",
     "height": 34
    },
    "id": "gNv27H2o0Ejb",
    "outputId": "a6761e76-76d6-4f6d-d7f7-89337649312d"
   },
   "outputs": [
    {
     "name": "stdout",
     "output_type": "stream",
     "text": [
      "/device:GPU:0\n"
     ]
    }
   ],
   "source": [
    "print(tf.test.gpu_device_name())"
   ]
  },
  {
   "cell_type": "code",
   "execution_count": null,
   "metadata": {
    "id": "xBYtA960wINN"
   },
   "outputs": [],
   "source": [
    "df = pd.read_csv('../data/data.csv')"
   ]
  },
  {
   "cell_type": "code",
   "execution_count": null,
   "metadata": {
    "colab": {
     "base_uri": "https://localhost:8080/",
     "height": 206
    },
    "id": "iSXTmmDKwINX",
    "outputId": "acb95766-f295-41fa-d871-e3d0b0c756c1"
   },
   "outputs": [
    {
     "data": {
      "text/html": [
       "<div>\n",
       "<style scoped>\n",
       "    .dataframe tbody tr th:only-of-type {\n",
       "        vertical-align: middle;\n",
       "    }\n",
       "\n",
       "    .dataframe tbody tr th {\n",
       "        vertical-align: top;\n",
       "    }\n",
       "\n",
       "    .dataframe thead th {\n",
       "        text-align: right;\n",
       "    }\n",
       "</style>\n",
       "<table border=\"1\" class=\"dataframe\">\n",
       "  <thead>\n",
       "    <tr style=\"text-align: right;\">\n",
       "      <th></th>\n",
       "      <th>word</th>\n",
       "      <th>tag</th>\n",
       "    </tr>\n",
       "  </thead>\n",
       "  <tbody>\n",
       "    <tr>\n",
       "      <th>0</th>\n",
       "      <td>Pengamat</td>\n",
       "      <td>O</td>\n",
       "    </tr>\n",
       "    <tr>\n",
       "      <th>1</th>\n",
       "      <td>politik</td>\n",
       "      <td>O</td>\n",
       "    </tr>\n",
       "    <tr>\n",
       "      <th>2</th>\n",
       "      <td>dari</td>\n",
       "      <td>O</td>\n",
       "    </tr>\n",
       "    <tr>\n",
       "      <th>3</th>\n",
       "      <td>Universitas</td>\n",
       "      <td>B-ORGANIZATION</td>\n",
       "    </tr>\n",
       "    <tr>\n",
       "      <th>4</th>\n",
       "      <td>Gadjah</td>\n",
       "      <td>I-ORGANIZATION</td>\n",
       "    </tr>\n",
       "  </tbody>\n",
       "</table>\n",
       "</div>"
      ],
      "text/plain": [
       "          word             tag\n",
       "0     Pengamat               O\n",
       "1      politik               O\n",
       "2         dari               O\n",
       "3  Universitas  B-ORGANIZATION\n",
       "4       Gadjah  I-ORGANIZATION"
      ]
     },
     "execution_count": 10,
     "metadata": {
      "tags": []
     },
     "output_type": "execute_result"
    }
   ],
   "source": [
    "df.head()"
   ]
  },
  {
   "cell_type": "code",
   "execution_count": null,
   "metadata": {
    "colab": {
     "base_uri": "https://localhost:8080/",
     "height": 206
    },
    "id": "t87mchhWwINg",
    "outputId": "b7ecdfd9-b245-4dd1-9b9d-8efe46c3cc51"
   },
   "outputs": [
    {
     "data": {
      "text/html": [
       "<div>\n",
       "<style scoped>\n",
       "    .dataframe tbody tr th:only-of-type {\n",
       "        vertical-align: middle;\n",
       "    }\n",
       "\n",
       "    .dataframe tbody tr th {\n",
       "        vertical-align: top;\n",
       "    }\n",
       "\n",
       "    .dataframe thead th {\n",
       "        text-align: right;\n",
       "    }\n",
       "</style>\n",
       "<table border=\"1\" class=\"dataframe\">\n",
       "  <thead>\n",
       "    <tr style=\"text-align: right;\">\n",
       "      <th></th>\n",
       "      <th>word</th>\n",
       "      <th>tag</th>\n",
       "      <th>sentence #</th>\n",
       "    </tr>\n",
       "  </thead>\n",
       "  <tbody>\n",
       "    <tr>\n",
       "      <th>0</th>\n",
       "      <td>Pengamat</td>\n",
       "      <td>O</td>\n",
       "      <td>1</td>\n",
       "    </tr>\n",
       "    <tr>\n",
       "      <th>1</th>\n",
       "      <td>politik</td>\n",
       "      <td>O</td>\n",
       "      <td>1</td>\n",
       "    </tr>\n",
       "    <tr>\n",
       "      <th>2</th>\n",
       "      <td>dari</td>\n",
       "      <td>O</td>\n",
       "      <td>1</td>\n",
       "    </tr>\n",
       "    <tr>\n",
       "      <th>3</th>\n",
       "      <td>Universitas</td>\n",
       "      <td>B-ORGANIZATION</td>\n",
       "      <td>1</td>\n",
       "    </tr>\n",
       "    <tr>\n",
       "      <th>4</th>\n",
       "      <td>Gadjah</td>\n",
       "      <td>I-ORGANIZATION</td>\n",
       "      <td>1</td>\n",
       "    </tr>\n",
       "  </tbody>\n",
       "</table>\n",
       "</div>"
      ],
      "text/plain": [
       "          word             tag  sentence #\n",
       "0     Pengamat               O           1\n",
       "1      politik               O           1\n",
       "2         dari               O           1\n",
       "3  Universitas  B-ORGANIZATION           1\n",
       "4       Gadjah  I-ORGANIZATION           1"
      ]
     },
     "execution_count": 11,
     "metadata": {
      "tags": []
     },
     "output_type": "execute_result"
    }
   ],
   "source": [
    "sentences = []\n",
    "cnt = 1\n",
    "\n",
    "for i in df.itertuples():\n",
    "    sentences.append(cnt)\n",
    "    \n",
    "    if '.' in str(i.word):\n",
    "        cnt += 1\n",
    "        \n",
    "df['sentence #'] = sentences\n",
    "df.head()"
   ]
  },
  {
   "cell_type": "code",
   "execution_count": null,
   "metadata": {
    "id": "LclCXTYdwINm"
   },
   "outputs": [],
   "source": [
    "agg_func = lambda s: [(w, t) for w, t in zip(s['word'].values.tolist(), s['tag'].values.tolist())]\n",
    "grouped = df.groupby('sentence #').apply(agg_func)\n",
    "sentences = [s for s in grouped]"
   ]
  },
  {
   "cell_type": "code",
   "execution_count": null,
   "metadata": {
    "id": "v0FezO6xwINs"
   },
   "outputs": [],
   "source": [
    "words = list(set(df['word'].values))\n",
    "words.append('PADDING')\n",
    "num_words = len(words)\n",
    "tags = list(set(df['tag'].values))\n",
    "num_tags = len(tags)"
   ]
  },
  {
   "cell_type": "code",
   "execution_count": null,
   "metadata": {
    "id": "XUU3rBgNwINy"
   },
   "outputs": [],
   "source": [
    "tags = sorted([t for t in tags if t != 'O'], key=lambda x: (x[2], x[0]))\n",
    "tags.append('O')"
   ]
  },
  {
   "cell_type": "code",
   "execution_count": null,
   "metadata": {
    "id": "8Ng1XB0nwIN3"
   },
   "outputs": [],
   "source": [
    "word2idx = {w: i for i, w in enumerate(words)}\n",
    "tag2idx = {t: i for i, t in enumerate(tags)}"
   ]
  },
  {
   "cell_type": "code",
   "execution_count": null,
   "metadata": {
    "colab": {
     "base_uri": "https://localhost:8080/",
     "height": 382
    },
    "id": "U_S5jQ6WwIN7",
    "outputId": "70754771-9fbe-44ed-8c61-0cd5a904f982"
   },
   "outputs": [
    {
     "data": {
      "text/plain": [
       "{'B-LOCATION': 0,\n",
       " 'B-ORGANIZATION': 4,\n",
       " 'B-PERSON': 8,\n",
       " 'B-QUANTITY': 12,\n",
       " 'B-TIME': 16,\n",
       " 'I-LOCATION': 1,\n",
       " 'I-ORGANIZATION': 5,\n",
       " 'I-PERSON': 9,\n",
       " 'I-QUANTITY': 13,\n",
       " 'I-TIME': 17,\n",
       " 'L-LOCATION': 2,\n",
       " 'L-ORGANIZATION': 6,\n",
       " 'L-PERSON': 10,\n",
       " 'L-QUANTITY': 14,\n",
       " 'L-TIME': 18,\n",
       " 'O': 20,\n",
       " 'U-LOCATION': 3,\n",
       " 'U-ORGANIZATION': 7,\n",
       " 'U-PERSON': 11,\n",
       " 'U-QUANTITY': 15,\n",
       " 'U-TIME': 19}"
      ]
     },
     "execution_count": 16,
     "metadata": {
      "tags": []
     },
     "output_type": "execute_result"
    }
   ],
   "source": [
    "tag2idx"
   ]
  },
  {
   "cell_type": "markdown",
   "metadata": {
    "id": "wB7wOlZ0wIOB"
   },
   "source": [
    "### Pad Sequence"
   ]
  },
  {
   "cell_type": "code",
   "execution_count": null,
   "metadata": {
    "id": "g4nz_7UnwIOC"
   },
   "outputs": [],
   "source": [
    "max_len = 40\n",
    "X = [[word2idx[w[0]] for w in s] for s in sentences]\n",
    "X = pad_sequences(maxlen=max_len, sequences=X, padding='post', value=num_words-1)\n",
    "\n",
    "y = [[tag2idx[w[1]] for w in s] for s in sentences]\n",
    "y = pad_sequences(maxlen=max_len, sequences=y, padding='post', value=tag2idx['O'])\n",
    "y = [to_categorical(i, num_classes=num_tags) for i in y]"
   ]
  },
  {
   "cell_type": "code",
   "execution_count": null,
   "metadata": {
    "id": "YO6TU5s-wIOG"
   },
   "outputs": [],
   "source": [
    "x_train, x_val_test, y_train, y_val_test = train_test_split(X, y, test_size=0.3, random_state=1)\n",
    "x_val, x_test, y_val, y_test = train_test_split(x_val_test, y_val_test, test_size=0.5, random_state=1)"
   ]
  },
  {
   "cell_type": "markdown",
   "metadata": {
    "id": "OIdRq0rfwIOL"
   },
   "source": [
    "### Pre-trained Word2Vec Embedding"
   ]
  },
  {
   "cell_type": "code",
   "execution_count": null,
   "metadata": {
    "id": "Q_XsOmLVwIOM"
   },
   "outputs": [],
   "source": [
    "model = gensim.models.Word2Vec.load(\"../checkpoint/w2vec_wiki_id_case\")"
   ]
  },
  {
   "cell_type": "code",
   "execution_count": null,
   "metadata": {
    "id": "EEKTP6CBwIOR"
   },
   "outputs": [],
   "source": [
    "embedding_matrix = np.zeros((len(words), 400))\n",
    "\n",
    "for i, w in enumerate(words):\n",
    "    try:\n",
    "        embedding_vector = model.wv[w]\n",
    "        embedding_matrix[i] = embedding_vector\n",
    "    except:\n",
    "        embedding_matrix[i] = np.random.normal(0, np.sqrt(0.25), 400)"
   ]
  },
  {
   "cell_type": "markdown",
   "metadata": {
    "id": "UxuWH4t4wIOV"
   },
   "source": [
    "Initial parameters"
   ]
  },
  {
   "cell_type": "code",
   "execution_count": null,
   "metadata": {
    "id": "dZhcVMn6papG"
   },
   "outputs": [],
   "source": [
    "def f1_score_micro(y_true, y_pred):\n",
    "    y_true = np.argmax(y_true.numpy(), axis=-1).reshape(-1)\n",
    "    y_pred = np.argmax(y_pred.numpy(), axis=-1).reshape(-1)\n",
    "    \n",
    "    # label O will be ignored during training and evaluation\n",
    "    o_pad_idx = np.where(y_true==20) # 20 is the idx for label O\n",
    "    \n",
    "    # remove label O\n",
    "    y_true = np.delete(y_true, o_pad_idx)\n",
    "    y_pred = np.delete(y_pred, o_pad_idx)\n",
    "    \n",
    "    # compute f1 score with micro average\n",
    "    score = f1_score(y_true, y_pred, average='micro')\n",
    "    \n",
    "    return score"
   ]
  },
  {
   "cell_type": "code",
   "execution_count": null,
   "metadata": {
    "id": "O7TVjkcxpSel"
   },
   "outputs": [],
   "source": [
    "def create_model(x_train, y_train, x_val, y_val, params):\n",
    "    input_sequence = Input(shape=(max_len, ))\n",
    "    \n",
    "    model = Embedding(\n",
    "        input_dim= embedding_matrix.shape[0], \n",
    "        weights=[embedding_matrix], \n",
    "        output_dim=embedding_matrix.shape[1], \n",
    "        input_length=max_len,\n",
    "        trainable=False\n",
    "    )(input_sequence)\n",
    "    \n",
    "    # dropout layer\n",
    "    model = SpatialDropout1D(params['dropout'])(model)\n",
    "            \n",
    "    # lstm layer\n",
    "    model = Bidirectional(LSTM(units=params['lstm_units'], return_sequences=True))(model)\n",
    "    \n",
    "    # output layer\n",
    "    output_sequence = Dense(num_tags, activation='softmax')(model)\n",
    "    \n",
    "    # model\n",
    "    model = Model(input_sequence, output_sequence)\n",
    "    \n",
    "    # learning algorithm (optimizer)\n",
    "    if params['optimizer'] == 'Nadam':\n",
    "        optm = tf.keras.optimizers.Nadam(lr=params['lr'])\n",
    "        \n",
    "    if params['optimizer'] == 'Adam':\n",
    "        optm = tf.keras.optimizers.Adam(lr=params['lr'])\n",
    "        \n",
    "    if params['optimizer'] == 'RMSprop':\n",
    "        optm = tf.keras.optimizers.RMSprop(lr=params['lr'])\n",
    "    \n",
    "    loss = tf.keras.losses.CategoricalCrossentropy()\n",
    "\n",
    "    model.compile(loss=loss, optimizer=optm, metrics=[f1_score_micro], run_eagerly=True)\n",
    "\n",
    "    early_stopping = tf.keras.callbacks.EarlyStopping(patience=10, monitor='val_f1_score_micro', mode='max')\n",
    "\n",
    "    history = model.fit(\n",
    "      x_train, np.array(y_train),\n",
    "      validation_data=(x_val, np.array(y_val)),\n",
    "      epochs=100, verbose=1, callbacks=[early_stopping], batch_size=params['batch_size']\n",
    "    )\n",
    "\n",
    "    return history, model"
   ]
  },
  {
   "cell_type": "code",
   "execution_count": null,
   "metadata": {
    "id": "wmYoE6yrwIOW"
   },
   "outputs": [],
   "source": [
    "params = {\n",
    "    'optimizer': ['Adam'],\n",
    "    'lr': [0.01],\n",
    "    'lstm_units': [200],\n",
    "    'dropout': [0.1, 0.3, 0.5, 0.7],\n",
    "    'batch_size': [128]\n",
    "}"
   ]
  },
  {
   "cell_type": "code",
   "execution_count": null,
   "metadata": {
    "colab": {
     "base_uri": "https://localhost:8080/",
     "height": 104
    },
    "id": "zmwyrhpRAeq1",
    "outputId": "c3ab7891-bbe6-42a3-94a6-e8b1312c2f6e"
   },
   "outputs": [
    {
     "data": {
      "text/plain": [
       "{'batch_size': [128],\n",
       " 'dropout': [0.1, 0.3, 0.5, 0.7],\n",
       " 'lr': [0.01],\n",
       " 'lstm_units': [200],\n",
       " 'optimizer': ['Adam']}"
      ]
     },
     "execution_count": 34,
     "metadata": {
      "tags": []
     },
     "output_type": "execute_result"
    }
   ],
   "source": [
    "params"
   ]
  },
  {
   "cell_type": "code",
   "execution_count": null,
   "metadata": {
    "colab": {
     "base_uri": "https://localhost:8080/",
     "height": 1000
    },
    "id": "FUNdJv6npSba",
    "outputId": "06184fb0-c773-486e-c724-4fb998d7be90"
   },
   "outputs": [
    {
     "name": "stderr",
     "output_type": "stream",
     "text": [
      "\r",
      "  0%|          | 0/4 [00:00<?, ?it/s]"
     ]
    },
    {
     "name": "stdout",
     "output_type": "stream",
     "text": [
      "Epoch 1/100\n",
      "27/27 [==============================] - 1s 40ms/step - loss: 0.5306 - f1_score_micro: 0.0084 - val_loss: 0.3737 - val_f1_score_micro: 0.0313\n",
      "Epoch 2/100\n",
      "27/27 [==============================] - 1s 37ms/step - loss: 0.3243 - f1_score_micro: 0.0792 - val_loss: 0.2814 - val_f1_score_micro: 0.2197\n",
      "Epoch 3/100\n",
      "27/27 [==============================] - 1s 39ms/step - loss: 0.2323 - f1_score_micro: 0.3017 - val_loss: 0.2074 - val_f1_score_micro: 0.3838\n",
      "Epoch 4/100\n",
      "27/27 [==============================] - 1s 41ms/step - loss: 0.1745 - f1_score_micro: 0.4761 - val_loss: 0.1742 - val_f1_score_micro: 0.5450\n",
      "Epoch 5/100\n",
      "27/27 [==============================] - 1s 36ms/step - loss: 0.1412 - f1_score_micro: 0.5858 - val_loss: 0.1473 - val_f1_score_micro: 0.6132\n",
      "Epoch 6/100\n",
      "27/27 [==============================] - 1s 40ms/step - loss: 0.1198 - f1_score_micro: 0.6498 - val_loss: 0.1355 - val_f1_score_micro: 0.6145\n",
      "Epoch 7/100\n",
      "27/27 [==============================] - 1s 37ms/step - loss: 0.1037 - f1_score_micro: 0.7003 - val_loss: 0.1313 - val_f1_score_micro: 0.6250\n",
      "Epoch 8/100\n",
      "27/27 [==============================] - 1s 39ms/step - loss: 0.0916 - f1_score_micro: 0.7357 - val_loss: 0.1273 - val_f1_score_micro: 0.6639\n",
      "Epoch 9/100\n",
      "27/27 [==============================] - 1s 37ms/step - loss: 0.0825 - f1_score_micro: 0.7672 - val_loss: 0.1213 - val_f1_score_micro: 0.6960\n",
      "Epoch 10/100\n",
      "27/27 [==============================] - 1s 40ms/step - loss: 0.0774 - f1_score_micro: 0.7811 - val_loss: 0.1210 - val_f1_score_micro: 0.7151\n",
      "Epoch 11/100\n",
      "27/27 [==============================] - 1s 38ms/step - loss: 0.0682 - f1_score_micro: 0.8113 - val_loss: 0.1162 - val_f1_score_micro: 0.6880\n",
      "Epoch 12/100\n",
      "27/27 [==============================] - 1s 38ms/step - loss: 0.0610 - f1_score_micro: 0.8321 - val_loss: 0.1174 - val_f1_score_micro: 0.7090\n",
      "Epoch 13/100\n",
      "27/27 [==============================] - 1s 40ms/step - loss: 0.0556 - f1_score_micro: 0.8495 - val_loss: 0.1230 - val_f1_score_micro: 0.6871\n",
      "Epoch 14/100\n",
      "27/27 [==============================] - 1s 38ms/step - loss: 0.0493 - f1_score_micro: 0.8649 - val_loss: 0.1219 - val_f1_score_micro: 0.6908\n",
      "Epoch 15/100\n",
      "27/27 [==============================] - 1s 41ms/step - loss: 0.0440 - f1_score_micro: 0.8810 - val_loss: 0.1183 - val_f1_score_micro: 0.7189\n",
      "Epoch 16/100\n",
      "27/27 [==============================] - 1s 36ms/step - loss: 0.0419 - f1_score_micro: 0.8902 - val_loss: 0.1262 - val_f1_score_micro: 0.7323\n",
      "Epoch 17/100\n",
      "27/27 [==============================] - 1s 37ms/step - loss: 0.0369 - f1_score_micro: 0.9049 - val_loss: 0.1274 - val_f1_score_micro: 0.6703\n",
      "Epoch 18/100\n",
      "27/27 [==============================] - 1s 36ms/step - loss: 0.0321 - f1_score_micro: 0.9199 - val_loss: 0.1291 - val_f1_score_micro: 0.6990\n",
      "Epoch 19/100\n",
      "27/27 [==============================] - 1s 37ms/step - loss: 0.0280 - f1_score_micro: 0.9295 - val_loss: 0.1290 - val_f1_score_micro: 0.6943\n",
      "Epoch 20/100\n",
      "27/27 [==============================] - 1s 37ms/step - loss: 0.0251 - f1_score_micro: 0.9380 - val_loss: 0.1340 - val_f1_score_micro: 0.7148\n",
      "Epoch 21/100\n",
      "27/27 [==============================] - 1s 37ms/step - loss: 0.0245 - f1_score_micro: 0.9410 - val_loss: 0.1371 - val_f1_score_micro: 0.7185\n",
      "Epoch 22/100\n",
      "27/27 [==============================] - 1s 38ms/step - loss: 0.0222 - f1_score_micro: 0.9464 - val_loss: 0.1372 - val_f1_score_micro: 0.7085\n",
      "Epoch 23/100\n",
      "27/27 [==============================] - 1s 37ms/step - loss: 0.0188 - f1_score_micro: 0.9589 - val_loss: 0.1426 - val_f1_score_micro: 0.6864\n",
      "Epoch 24/100\n",
      "27/27 [==============================] - 1s 38ms/step - loss: 0.0162 - f1_score_micro: 0.9641 - val_loss: 0.1501 - val_f1_score_micro: 0.6869\n",
      "Epoch 25/100\n",
      "27/27 [==============================] - 1s 37ms/step - loss: 0.0146 - f1_score_micro: 0.9690 - val_loss: 0.1507 - val_f1_score_micro: 0.6846\n",
      "Epoch 26/100\n",
      "27/27 [==============================] - 1s 38ms/step - loss: 0.0151 - f1_score_micro: 0.9662 - val_loss: 0.1529 - val_f1_score_micro: 0.6791\n"
     ]
    },
    {
     "name": "stderr",
     "output_type": "stream",
     "text": [
      "\r",
      " 25%|██▌       | 1/4 [00:28<01:25, 28.62s/it]"
     ]
    },
    {
     "name": "stdout",
     "output_type": "stream",
     "text": [
      "Epoch 1/100\n",
      "27/27 [==============================] - 1s 39ms/step - loss: 0.5568 - f1_score_micro: 0.0088 - val_loss: 0.3736 - val_f1_score_micro: 0.0392\n",
      "Epoch 2/100\n",
      "27/27 [==============================] - 1s 39ms/step - loss: 0.3305 - f1_score_micro: 0.0754 - val_loss: 0.2795 - val_f1_score_micro: 0.1888\n",
      "Epoch 3/100\n",
      "27/27 [==============================] - 1s 38ms/step - loss: 0.2374 - f1_score_micro: 0.2851 - val_loss: 0.2018 - val_f1_score_micro: 0.3964\n",
      "Epoch 4/100\n",
      "27/27 [==============================] - 1s 41ms/step - loss: 0.1760 - f1_score_micro: 0.4668 - val_loss: 0.1629 - val_f1_score_micro: 0.5659\n",
      "Epoch 5/100\n",
      "27/27 [==============================] - 1s 37ms/step - loss: 0.1431 - f1_score_micro: 0.5774 - val_loss: 0.1439 - val_f1_score_micro: 0.5883\n",
      "Epoch 6/100\n",
      "27/27 [==============================] - 1s 40ms/step - loss: 0.1206 - f1_score_micro: 0.6462 - val_loss: 0.1307 - val_f1_score_micro: 0.6581\n",
      "Epoch 7/100\n",
      "27/27 [==============================] - 1s 37ms/step - loss: 0.1050 - f1_score_micro: 0.6879 - val_loss: 0.1229 - val_f1_score_micro: 0.6588\n",
      "Epoch 8/100\n",
      "27/27 [==============================] - 1s 41ms/step - loss: 0.0935 - f1_score_micro: 0.7311 - val_loss: 0.1186 - val_f1_score_micro: 0.6574\n",
      "Epoch 9/100\n",
      "27/27 [==============================] - 1s 37ms/step - loss: 0.0863 - f1_score_micro: 0.7500 - val_loss: 0.1157 - val_f1_score_micro: 0.6939\n",
      "Epoch 10/100\n",
      "27/27 [==============================] - 1s 37ms/step - loss: 0.0787 - f1_score_micro: 0.7737 - val_loss: 0.1137 - val_f1_score_micro: 0.6985\n",
      "Epoch 11/100\n",
      "27/27 [==============================] - 1s 38ms/step - loss: 0.0688 - f1_score_micro: 0.8044 - val_loss: 0.1166 - val_f1_score_micro: 0.6882\n",
      "Epoch 12/100\n",
      "27/27 [==============================] - 1s 38ms/step - loss: 0.0645 - f1_score_micro: 0.8156 - val_loss: 0.1171 - val_f1_score_micro: 0.6983\n",
      "Epoch 13/100\n",
      "27/27 [==============================] - 1s 37ms/step - loss: 0.0571 - f1_score_micro: 0.8393 - val_loss: 0.1162 - val_f1_score_micro: 0.7167\n",
      "Epoch 14/100\n",
      "27/27 [==============================] - 1s 38ms/step - loss: 0.0521 - f1_score_micro: 0.8568 - val_loss: 0.1245 - val_f1_score_micro: 0.7315\n",
      "Epoch 15/100\n",
      "27/27 [==============================] - 1s 38ms/step - loss: 0.0490 - f1_score_micro: 0.8657 - val_loss: 0.1173 - val_f1_score_micro: 0.7392\n",
      "Epoch 16/100\n",
      "27/27 [==============================] - 1s 38ms/step - loss: 0.0442 - f1_score_micro: 0.8796 - val_loss: 0.1233 - val_f1_score_micro: 0.7141\n",
      "Epoch 17/100\n",
      "27/27 [==============================] - 1s 37ms/step - loss: 0.0404 - f1_score_micro: 0.8881 - val_loss: 0.1261 - val_f1_score_micro: 0.7193\n",
      "Epoch 18/100\n",
      "27/27 [==============================] - 1s 37ms/step - loss: 0.0371 - f1_score_micro: 0.9033 - val_loss: 0.1271 - val_f1_score_micro: 0.7320\n",
      "Epoch 19/100\n",
      "27/27 [==============================] - 1s 37ms/step - loss: 0.0345 - f1_score_micro: 0.9067 - val_loss: 0.1329 - val_f1_score_micro: 0.7367\n",
      "Epoch 20/100\n",
      "27/27 [==============================] - 1s 41ms/step - loss: 0.0301 - f1_score_micro: 0.9202 - val_loss: 0.1370 - val_f1_score_micro: 0.6972\n",
      "Epoch 21/100\n",
      "27/27 [==============================] - 1s 40ms/step - loss: 0.0282 - f1_score_micro: 0.9261 - val_loss: 0.1349 - val_f1_score_micro: 0.7018\n",
      "Epoch 22/100\n",
      "27/27 [==============================] - 1s 36ms/step - loss: 0.0251 - f1_score_micro: 0.9351 - val_loss: 0.1362 - val_f1_score_micro: 0.7382\n",
      "Epoch 23/100\n",
      "27/27 [==============================] - 1s 39ms/step - loss: 0.0236 - f1_score_micro: 0.9400 - val_loss: 0.1365 - val_f1_score_micro: 0.7353\n",
      "Epoch 24/100\n",
      "27/27 [==============================] - 1s 38ms/step - loss: 0.0219 - f1_score_micro: 0.9490 - val_loss: 0.1373 - val_f1_score_micro: 0.7326\n",
      "Epoch 25/100\n",
      "27/27 [==============================] - 1s 37ms/step - loss: 0.0199 - f1_score_micro: 0.9480 - val_loss: 0.1385 - val_f1_score_micro: 0.7119\n"
     ]
    },
    {
     "name": "stderr",
     "output_type": "stream",
     "text": [
      "\r",
      " 50%|█████     | 2/4 [00:56<00:56, 28.30s/it]"
     ]
    },
    {
     "name": "stdout",
     "output_type": "stream",
     "text": [
      "Epoch 1/100\n",
      "27/27 [==============================] - 1s 37ms/step - loss: 0.5673 - f1_score_micro: 0.0089 - val_loss: 0.3650 - val_f1_score_micro: 0.0217\n",
      "Epoch 2/100\n",
      "27/27 [==============================] - 1s 36ms/step - loss: 0.3283 - f1_score_micro: 0.0849 - val_loss: 0.2705 - val_f1_score_micro: 0.1872\n",
      "Epoch 3/100\n",
      "27/27 [==============================] - 1s 41ms/step - loss: 0.2407 - f1_score_micro: 0.2785 - val_loss: 0.1981 - val_f1_score_micro: 0.3866\n",
      "Epoch 4/100\n",
      "27/27 [==============================] - 1s 38ms/step - loss: 0.1828 - f1_score_micro: 0.4591 - val_loss: 0.1625 - val_f1_score_micro: 0.5321\n",
      "Epoch 5/100\n",
      "27/27 [==============================] - 1s 37ms/step - loss: 0.1515 - f1_score_micro: 0.5409 - val_loss: 0.1409 - val_f1_score_micro: 0.6248\n",
      "Epoch 6/100\n",
      "27/27 [==============================] - 1s 38ms/step - loss: 0.1311 - f1_score_micro: 0.6077 - val_loss: 0.1337 - val_f1_score_micro: 0.6380\n",
      "Epoch 7/100\n",
      "27/27 [==============================] - 1s 39ms/step - loss: 0.1197 - f1_score_micro: 0.6484 - val_loss: 0.1219 - val_f1_score_micro: 0.6366\n",
      "Epoch 8/100\n",
      "27/27 [==============================] - 1s 38ms/step - loss: 0.1136 - f1_score_micro: 0.6628 - val_loss: 0.1175 - val_f1_score_micro: 0.6720\n",
      "Epoch 9/100\n",
      "27/27 [==============================] - 1s 38ms/step - loss: 0.0997 - f1_score_micro: 0.7079 - val_loss: 0.1156 - val_f1_score_micro: 0.6950\n",
      "Epoch 10/100\n",
      "27/27 [==============================] - 1s 38ms/step - loss: 0.0919 - f1_score_micro: 0.7337 - val_loss: 0.1178 - val_f1_score_micro: 0.6667\n",
      "Epoch 11/100\n",
      "27/27 [==============================] - 1s 38ms/step - loss: 0.0867 - f1_score_micro: 0.7522 - val_loss: 0.1152 - val_f1_score_micro: 0.7033\n",
      "Epoch 12/100\n",
      "27/27 [==============================] - 1s 37ms/step - loss: 0.0809 - f1_score_micro: 0.7677 - val_loss: 0.1200 - val_f1_score_micro: 0.6611\n",
      "Epoch 13/100\n",
      "27/27 [==============================] - 1s 37ms/step - loss: 0.0745 - f1_score_micro: 0.7786 - val_loss: 0.1228 - val_f1_score_micro: 0.7549\n",
      "Epoch 14/100\n",
      "27/27 [==============================] - 1s 38ms/step - loss: 0.0690 - f1_score_micro: 0.7997 - val_loss: 0.1209 - val_f1_score_micro: 0.7448\n",
      "Epoch 15/100\n",
      "27/27 [==============================] - 1s 37ms/step - loss: 0.0642 - f1_score_micro: 0.8136 - val_loss: 0.1196 - val_f1_score_micro: 0.7563\n",
      "Epoch 16/100\n",
      "27/27 [==============================] - 1s 37ms/step - loss: 0.0624 - f1_score_micro: 0.8241 - val_loss: 0.1195 - val_f1_score_micro: 0.7342\n",
      "Epoch 17/100\n",
      "27/27 [==============================] - 1s 37ms/step - loss: 0.0587 - f1_score_micro: 0.8297 - val_loss: 0.1181 - val_f1_score_micro: 0.7348\n",
      "Epoch 18/100\n",
      "27/27 [==============================] - 1s 38ms/step - loss: 0.0528 - f1_score_micro: 0.8464 - val_loss: 0.1233 - val_f1_score_micro: 0.7468\n",
      "Epoch 19/100\n",
      "27/27 [==============================] - 1s 38ms/step - loss: 0.0496 - f1_score_micro: 0.8630 - val_loss: 0.1228 - val_f1_score_micro: 0.7448\n",
      "Epoch 20/100\n",
      "27/27 [==============================] - 1s 38ms/step - loss: 0.0453 - f1_score_micro: 0.8714 - val_loss: 0.1194 - val_f1_score_micro: 0.7184\n",
      "Epoch 21/100\n",
      "27/27 [==============================] - 1s 38ms/step - loss: 0.0450 - f1_score_micro: 0.8714 - val_loss: 0.1224 - val_f1_score_micro: 0.7441\n",
      "Epoch 22/100\n",
      "27/27 [==============================] - 1s 38ms/step - loss: 0.0415 - f1_score_micro: 0.8833 - val_loss: 0.1234 - val_f1_score_micro: 0.7404\n",
      "Epoch 23/100\n",
      "27/27 [==============================] - 1s 37ms/step - loss: 0.0380 - f1_score_micro: 0.8925 - val_loss: 0.1263 - val_f1_score_micro: 0.7297\n",
      "Epoch 24/100\n",
      "27/27 [==============================] - 1s 41ms/step - loss: 0.0369 - f1_score_micro: 0.8960 - val_loss: 0.1296 - val_f1_score_micro: 0.7293\n",
      "Epoch 25/100\n",
      "27/27 [==============================] - 1s 40ms/step - loss: 0.0367 - f1_score_micro: 0.8989 - val_loss: 0.1366 - val_f1_score_micro: 0.7027\n"
     ]
    },
    {
     "name": "stderr",
     "output_type": "stream",
     "text": [
      "\r",
      " 75%|███████▌  | 3/4 [01:23<00:28, 28.04s/it]"
     ]
    },
    {
     "name": "stdout",
     "output_type": "stream",
     "text": [
      "Epoch 1/100\n",
      "27/27 [==============================] - 1s 36ms/step - loss: 0.5604 - f1_score_micro: 0.0090 - val_loss: 0.3598 - val_f1_score_micro: 0.0417\n",
      "Epoch 2/100\n",
      "27/27 [==============================] - 1s 37ms/step - loss: 0.3249 - f1_score_micro: 0.0871 - val_loss: 0.2584 - val_f1_score_micro: 0.2404\n",
      "Epoch 3/100\n",
      "27/27 [==============================] - 1s 41ms/step - loss: 0.2430 - f1_score_micro: 0.2728 - val_loss: 0.2023 - val_f1_score_micro: 0.3837\n",
      "Epoch 4/100\n",
      "27/27 [==============================] - 1s 38ms/step - loss: 0.1973 - f1_score_micro: 0.4119 - val_loss: 0.1659 - val_f1_score_micro: 0.5170\n",
      "Epoch 5/100\n",
      "27/27 [==============================] - 1s 41ms/step - loss: 0.1689 - f1_score_micro: 0.4974 - val_loss: 0.1472 - val_f1_score_micro: 0.5571\n",
      "Epoch 6/100\n",
      "27/27 [==============================] - 1s 39ms/step - loss: 0.1545 - f1_score_micro: 0.5463 - val_loss: 0.1392 - val_f1_score_micro: 0.6448\n",
      "Epoch 7/100\n",
      "27/27 [==============================] - 1s 39ms/step - loss: 0.1432 - f1_score_micro: 0.5716 - val_loss: 0.1256 - val_f1_score_micro: 0.6469\n",
      "Epoch 8/100\n",
      "27/27 [==============================] - 1s 39ms/step - loss: 0.1345 - f1_score_micro: 0.6011 - val_loss: 0.1206 - val_f1_score_micro: 0.6574\n",
      "Epoch 9/100\n",
      "27/27 [==============================] - 1s 43ms/step - loss: 0.1261 - f1_score_micro: 0.6276 - val_loss: 0.1190 - val_f1_score_micro: 0.6540\n",
      "Epoch 10/100\n",
      "27/27 [==============================] - 1s 39ms/step - loss: 0.1214 - f1_score_micro: 0.6429 - val_loss: 0.1191 - val_f1_score_micro: 0.6534\n",
      "Epoch 11/100\n",
      "27/27 [==============================] - 1s 40ms/step - loss: 0.1151 - f1_score_micro: 0.6587 - val_loss: 0.1148 - val_f1_score_micro: 0.6951\n",
      "Epoch 12/100\n",
      "27/27 [==============================] - 1s 38ms/step - loss: 0.1085 - f1_score_micro: 0.6797 - val_loss: 0.1129 - val_f1_score_micro: 0.7232\n",
      "Epoch 13/100\n",
      "27/27 [==============================] - 1s 38ms/step - loss: 0.1057 - f1_score_micro: 0.6871 - val_loss: 0.1142 - val_f1_score_micro: 0.7095\n",
      "Epoch 14/100\n",
      "27/27 [==============================] - 1s 38ms/step - loss: 0.1011 - f1_score_micro: 0.7017 - val_loss: 0.1095 - val_f1_score_micro: 0.7159\n",
      "Epoch 15/100\n",
      "27/27 [==============================] - 1s 37ms/step - loss: 0.0955 - f1_score_micro: 0.7185 - val_loss: 0.1099 - val_f1_score_micro: 0.7257\n",
      "Epoch 16/100\n",
      "27/27 [==============================] - 1s 38ms/step - loss: 0.0944 - f1_score_micro: 0.7226 - val_loss: 0.1105 - val_f1_score_micro: 0.7242\n",
      "Epoch 17/100\n",
      "27/27 [==============================] - 1s 37ms/step - loss: 0.0903 - f1_score_micro: 0.7308 - val_loss: 0.1128 - val_f1_score_micro: 0.7413\n",
      "Epoch 18/100\n",
      "27/27 [==============================] - 1s 38ms/step - loss: 0.0892 - f1_score_micro: 0.7415 - val_loss: 0.1089 - val_f1_score_micro: 0.7589\n",
      "Epoch 19/100\n",
      "27/27 [==============================] - 1s 37ms/step - loss: 0.0843 - f1_score_micro: 0.7527 - val_loss: 0.1135 - val_f1_score_micro: 0.7339\n",
      "Epoch 20/100\n",
      "27/27 [==============================] - 1s 37ms/step - loss: 0.0826 - f1_score_micro: 0.7539 - val_loss: 0.1138 - val_f1_score_micro: 0.7466\n",
      "Epoch 21/100\n",
      "27/27 [==============================] - 1s 38ms/step - loss: 0.0789 - f1_score_micro: 0.7667 - val_loss: 0.1134 - val_f1_score_micro: 0.7395\n",
      "Epoch 22/100\n",
      "27/27 [==============================] - 1s 41ms/step - loss: 0.0754 - f1_score_micro: 0.7811 - val_loss: 0.1129 - val_f1_score_micro: 0.7560\n",
      "Epoch 23/100\n",
      "27/27 [==============================] - 1s 37ms/step - loss: 0.0744 - f1_score_micro: 0.7834 - val_loss: 0.1116 - val_f1_score_micro: 0.7545\n",
      "Epoch 24/100\n",
      "27/27 [==============================] - 1s 37ms/step - loss: 0.0706 - f1_score_micro: 0.7913 - val_loss: 0.1151 - val_f1_score_micro: 0.7235\n",
      "Epoch 25/100\n",
      "27/27 [==============================] - 1s 39ms/step - loss: 0.0693 - f1_score_micro: 0.7964 - val_loss: 0.1130 - val_f1_score_micro: 0.7495\n",
      "Epoch 26/100\n",
      "27/27 [==============================] - 1s 37ms/step - loss: 0.0667 - f1_score_micro: 0.8032 - val_loss: 0.1161 - val_f1_score_micro: 0.7670\n",
      "Epoch 27/100\n",
      "27/27 [==============================] - 1s 38ms/step - loss: 0.0667 - f1_score_micro: 0.8082 - val_loss: 0.1145 - val_f1_score_micro: 0.7384\n",
      "Epoch 28/100\n",
      "27/27 [==============================] - 1s 39ms/step - loss: 0.0637 - f1_score_micro: 0.8148 - val_loss: 0.1157 - val_f1_score_micro: 0.7332\n",
      "Epoch 29/100\n",
      "27/27 [==============================] - 1s 39ms/step - loss: 0.0613 - f1_score_micro: 0.8211 - val_loss: 0.1173 - val_f1_score_micro: 0.7557\n",
      "Epoch 30/100\n",
      "27/27 [==============================] - 1s 38ms/step - loss: 0.0595 - f1_score_micro: 0.8241 - val_loss: 0.1213 - val_f1_score_micro: 0.7388\n",
      "Epoch 31/100\n",
      "27/27 [==============================] - 1s 40ms/step - loss: 0.0577 - f1_score_micro: 0.8290 - val_loss: 0.1179 - val_f1_score_micro: 0.7717\n",
      "Epoch 32/100\n",
      "27/27 [==============================] - 1s 37ms/step - loss: 0.0576 - f1_score_micro: 0.8344 - val_loss: 0.1204 - val_f1_score_micro: 0.7484\n",
      "Epoch 33/100\n",
      "27/27 [==============================] - 1s 37ms/step - loss: 0.0568 - f1_score_micro: 0.8329 - val_loss: 0.1188 - val_f1_score_micro: 0.7443\n",
      "Epoch 34/100\n",
      "27/27 [==============================] - 1s 37ms/step - loss: 0.0540 - f1_score_micro: 0.8438 - val_loss: 0.1235 - val_f1_score_micro: 0.7408\n",
      "Epoch 35/100\n",
      "27/27 [==============================] - 1s 38ms/step - loss: 0.0536 - f1_score_micro: 0.8466 - val_loss: 0.1248 - val_f1_score_micro: 0.7547\n",
      "Epoch 36/100\n",
      "27/27 [==============================] - 1s 40ms/step - loss: 0.0533 - f1_score_micro: 0.8505 - val_loss: 0.1256 - val_f1_score_micro: 0.7487\n",
      "Epoch 37/100\n",
      "27/27 [==============================] - 1s 37ms/step - loss: 0.0525 - f1_score_micro: 0.8468 - val_loss: 0.1223 - val_f1_score_micro: 0.7269\n",
      "Epoch 38/100\n",
      "27/27 [==============================] - 1s 36ms/step - loss: 0.0505 - f1_score_micro: 0.8569 - val_loss: 0.1240 - val_f1_score_micro: 0.7450\n",
      "Epoch 39/100\n",
      "27/27 [==============================] - 1s 38ms/step - loss: 0.0504 - f1_score_micro: 0.8568 - val_loss: 0.1227 - val_f1_score_micro: 0.7601\n",
      "Epoch 40/100\n",
      "27/27 [==============================] - 1s 37ms/step - loss: 0.0487 - f1_score_micro: 0.8659 - val_loss: 0.1253 - val_f1_score_micro: 0.7452\n",
      "Epoch 41/100\n",
      "27/27 [==============================] - 1s 38ms/step - loss: 0.0475 - f1_score_micro: 0.8625 - val_loss: 0.1273 - val_f1_score_micro: 0.7468\n"
     ]
    },
    {
     "name": "stderr",
     "output_type": "stream",
     "text": [
      "100%|██████████| 4/4 [02:08<00:00, 32.10s/it]\n"
     ]
    }
   ],
   "source": [
    "t = ta.Scan(x=x_train,\n",
    "    y=np.array(y_train),\n",
    "    x_val=x_val,\n",
    "    y_val=np.array(y_val),\n",
    "    model=create_model,\n",
    "    params=params,\n",
    "    experiment_name='bilstm_w2v_opt_v4', \n",
    "    val_split=None,\n",
    ")"
   ]
  },
  {
   "cell_type": "code",
   "execution_count": null,
   "metadata": {
    "id": "ecnGwoOCwzxz"
   },
   "outputs": [],
   "source": []
  },
  {
   "cell_type": "code",
   "execution_count": null,
   "metadata": {
    "id": "M2g7NUNPwzs9"
   },
   "outputs": [],
   "source": []
  },
  {
   "cell_type": "code",
   "execution_count": null,
   "metadata": {
    "id": "QQOsOIlPwzp-"
   },
   "outputs": [],
   "source": []
  },
  {
   "cell_type": "code",
   "execution_count": null,
   "metadata": {
    "colab": {
     "base_uri": "https://localhost:8080/",
     "height": 175
    },
    "id": "HEHUe169vuus",
    "outputId": "fe602de7-1697-44ee-d5e6-b314e1506ee2"
   },
   "outputs": [
    {
     "data": {
      "text/html": [
       "<div>\n",
       "<style scoped>\n",
       "    .dataframe tbody tr th:only-of-type {\n",
       "        vertical-align: middle;\n",
       "    }\n",
       "\n",
       "    .dataframe tbody tr th {\n",
       "        vertical-align: top;\n",
       "    }\n",
       "\n",
       "    .dataframe thead th {\n",
       "        text-align: right;\n",
       "    }\n",
       "</style>\n",
       "<table border=\"1\" class=\"dataframe\">\n",
       "  <thead>\n",
       "    <tr style=\"text-align: right;\">\n",
       "      <th></th>\n",
       "      <th>loss</th>\n",
       "      <th>f1_score_micro</th>\n",
       "      <th>val_loss</th>\n",
       "      <th>val_f1_score_micro</th>\n",
       "      <th>dropout</th>\n",
       "    </tr>\n",
       "  </thead>\n",
       "  <tbody>\n",
       "    <tr>\n",
       "      <th>3</th>\n",
       "      <td>0.047498</td>\n",
       "      <td>0.862486</td>\n",
       "      <td>0.127317</td>\n",
       "      <td>0.746795</td>\n",
       "      <td>0.7</td>\n",
       "    </tr>\n",
       "    <tr>\n",
       "      <th>1</th>\n",
       "      <td>0.019924</td>\n",
       "      <td>0.948043</td>\n",
       "      <td>0.138522</td>\n",
       "      <td>0.711894</td>\n",
       "      <td>0.3</td>\n",
       "    </tr>\n",
       "    <tr>\n",
       "      <th>2</th>\n",
       "      <td>0.036687</td>\n",
       "      <td>0.898857</td>\n",
       "      <td>0.136642</td>\n",
       "      <td>0.702704</td>\n",
       "      <td>0.5</td>\n",
       "    </tr>\n",
       "    <tr>\n",
       "      <th>0</th>\n",
       "      <td>0.015067</td>\n",
       "      <td>0.966158</td>\n",
       "      <td>0.152928</td>\n",
       "      <td>0.679111</td>\n",
       "      <td>0.1</td>\n",
       "    </tr>\n",
       "  </tbody>\n",
       "</table>\n",
       "</div>"
      ],
      "text/plain": [
       "       loss  f1_score_micro  val_loss  val_f1_score_micro  dropout\n",
       "3  0.047498        0.862486  0.127317            0.746795      0.7\n",
       "1  0.019924        0.948043  0.138522            0.711894      0.3\n",
       "2  0.036687        0.898857  0.136642            0.702704      0.5\n",
       "0  0.015067        0.966158  0.152928            0.679111      0.1"
      ]
     },
     "execution_count": 36,
     "metadata": {
      "tags": []
     },
     "output_type": "execute_result"
    }
   ],
   "source": [
    "# round 3\n",
    "t.data[['loss', 'f1_score_micro', 'val_loss', 'val_f1_score_micro', 'dropout']] \\\n",
    "    .sort_values(by=['val_f1_score_micro'], ascending=False)"
   ]
  },
  {
   "cell_type": "code",
   "execution_count": null,
   "metadata": {
    "id": "i7iI0TPZvur7"
   },
   "outputs": [],
   "source": []
  },
  {
   "cell_type": "code",
   "execution_count": null,
   "metadata": {
    "colab": {
     "base_uri": "https://localhost:8080/",
     "height": 143
    },
    "id": "Ciky0emxuq8E",
    "outputId": "92e11980-8f17-4969-e87c-a95e40bf1475"
   },
   "outputs": [
    {
     "data": {
      "text/html": [
       "<div>\n",
       "<style scoped>\n",
       "    .dataframe tbody tr th:only-of-type {\n",
       "        vertical-align: middle;\n",
       "    }\n",
       "\n",
       "    .dataframe tbody tr th {\n",
       "        vertical-align: top;\n",
       "    }\n",
       "\n",
       "    .dataframe thead th {\n",
       "        text-align: right;\n",
       "    }\n",
       "</style>\n",
       "<table border=\"1\" class=\"dataframe\">\n",
       "  <thead>\n",
       "    <tr style=\"text-align: right;\">\n",
       "      <th></th>\n",
       "      <th>loss</th>\n",
       "      <th>f1_score_micro</th>\n",
       "      <th>val_loss</th>\n",
       "      <th>val_f1_score_micro</th>\n",
       "      <th>lstm_units</th>\n",
       "    </tr>\n",
       "  </thead>\n",
       "  <tbody>\n",
       "    <tr>\n",
       "      <th>2</th>\n",
       "      <td>0.002000</td>\n",
       "      <td>0.996915</td>\n",
       "      <td>0.176921</td>\n",
       "      <td>0.721708</td>\n",
       "      <td>200</td>\n",
       "    </tr>\n",
       "    <tr>\n",
       "      <th>0</th>\n",
       "      <td>0.020290</td>\n",
       "      <td>0.950416</td>\n",
       "      <td>0.142533</td>\n",
       "      <td>0.711109</td>\n",
       "      <td>50</td>\n",
       "    </tr>\n",
       "    <tr>\n",
       "      <th>1</th>\n",
       "      <td>0.016012</td>\n",
       "      <td>0.965461</td>\n",
       "      <td>0.147933</td>\n",
       "      <td>0.693997</td>\n",
       "      <td>100</td>\n",
       "    </tr>\n",
       "  </tbody>\n",
       "</table>\n",
       "</div>"
      ],
      "text/plain": [
       "       loss  f1_score_micro  val_loss  val_f1_score_micro  lstm_units\n",
       "2  0.002000        0.996915  0.176921            0.721708         200\n",
       "0  0.020290        0.950416  0.142533            0.711109          50\n",
       "1  0.016012        0.965461  0.147933            0.693997         100"
      ]
     },
     "execution_count": 32,
     "metadata": {
      "tags": []
     },
     "output_type": "execute_result"
    }
   ],
   "source": [
    "# round 2\n",
    "t.data[['loss', 'f1_score_micro', 'val_loss', 'val_f1_score_micro', 'lstm_units']] \\\n",
    "    .sort_values(by=['val_f1_score_micro'], ascending=False)"
   ]
  },
  {
   "cell_type": "code",
   "execution_count": null,
   "metadata": {
    "id": "idy1gUy9vD7N"
   },
   "outputs": [],
   "source": []
  },
  {
   "cell_type": "code",
   "execution_count": null,
   "metadata": {
    "colab": {
     "base_uri": "https://localhost:8080/",
     "height": 332
    },
    "id": "wxkQSkcipSZB",
    "outputId": "15bc0118-6829-4196-d340-1a7d80669180"
   },
   "outputs": [
    {
     "data": {
      "text/html": [
       "<div>\n",
       "<style scoped>\n",
       "    .dataframe tbody tr th:only-of-type {\n",
       "        vertical-align: middle;\n",
       "    }\n",
       "\n",
       "    .dataframe tbody tr th {\n",
       "        vertical-align: top;\n",
       "    }\n",
       "\n",
       "    .dataframe thead th {\n",
       "        text-align: right;\n",
       "    }\n",
       "</style>\n",
       "<table border=\"1\" class=\"dataframe\">\n",
       "  <thead>\n",
       "    <tr style=\"text-align: right;\">\n",
       "      <th></th>\n",
       "      <th>loss</th>\n",
       "      <th>f1_score_micro</th>\n",
       "      <th>val_loss</th>\n",
       "      <th>val_f1_score_micro</th>\n",
       "      <th>optimizer</th>\n",
       "      <th>lr</th>\n",
       "    </tr>\n",
       "  </thead>\n",
       "  <tbody>\n",
       "    <tr>\n",
       "      <th>1</th>\n",
       "      <td>0.007753</td>\n",
       "      <td>0.984169</td>\n",
       "      <td>0.160842</td>\n",
       "      <td>0.722316</td>\n",
       "      <td>Adam</td>\n",
       "      <td>0.0100</td>\n",
       "    </tr>\n",
       "    <tr>\n",
       "      <th>2</th>\n",
       "      <td>0.005736</td>\n",
       "      <td>0.987581</td>\n",
       "      <td>0.180024</td>\n",
       "      <td>0.713748</td>\n",
       "      <td>RMSprop</td>\n",
       "      <td>0.0100</td>\n",
       "    </tr>\n",
       "    <tr>\n",
       "      <th>0</th>\n",
       "      <td>0.014240</td>\n",
       "      <td>0.970382</td>\n",
       "      <td>0.140429</td>\n",
       "      <td>0.703763</td>\n",
       "      <td>Nadam</td>\n",
       "      <td>0.0100</td>\n",
       "    </tr>\n",
       "    <tr>\n",
       "      <th>4</th>\n",
       "      <td>0.044089</td>\n",
       "      <td>0.887775</td>\n",
       "      <td>0.142158</td>\n",
       "      <td>0.653969</td>\n",
       "      <td>Adam</td>\n",
       "      <td>0.0010</td>\n",
       "    </tr>\n",
       "    <tr>\n",
       "      <th>5</th>\n",
       "      <td>0.034772</td>\n",
       "      <td>0.915092</td>\n",
       "      <td>0.146096</td>\n",
       "      <td>0.636344</td>\n",
       "      <td>RMSprop</td>\n",
       "      <td>0.0010</td>\n",
       "    </tr>\n",
       "    <tr>\n",
       "      <th>3</th>\n",
       "      <td>0.055261</td>\n",
       "      <td>0.846797</td>\n",
       "      <td>0.141996</td>\n",
       "      <td>0.618761</td>\n",
       "      <td>Nadam</td>\n",
       "      <td>0.0010</td>\n",
       "    </tr>\n",
       "    <tr>\n",
       "      <th>8</th>\n",
       "      <td>0.146970</td>\n",
       "      <td>0.535470</td>\n",
       "      <td>0.182531</td>\n",
       "      <td>0.441965</td>\n",
       "      <td>RMSprop</td>\n",
       "      <td>0.0001</td>\n",
       "    </tr>\n",
       "    <tr>\n",
       "      <th>7</th>\n",
       "      <td>0.208119</td>\n",
       "      <td>0.325555</td>\n",
       "      <td>0.224032</td>\n",
       "      <td>0.285905</td>\n",
       "      <td>Adam</td>\n",
       "      <td>0.0001</td>\n",
       "    </tr>\n",
       "    <tr>\n",
       "      <th>6</th>\n",
       "      <td>0.444643</td>\n",
       "      <td>0.001788</td>\n",
       "      <td>0.433546</td>\n",
       "      <td>0.003381</td>\n",
       "      <td>Nadam</td>\n",
       "      <td>0.0001</td>\n",
       "    </tr>\n",
       "  </tbody>\n",
       "</table>\n",
       "</div>"
      ],
      "text/plain": [
       "       loss  f1_score_micro  val_loss  val_f1_score_micro optimizer      lr\n",
       "1  0.007753        0.984169  0.160842            0.722316      Adam  0.0100\n",
       "2  0.005736        0.987581  0.180024            0.713748   RMSprop  0.0100\n",
       "0  0.014240        0.970382  0.140429            0.703763     Nadam  0.0100\n",
       "4  0.044089        0.887775  0.142158            0.653969      Adam  0.0010\n",
       "5  0.034772        0.915092  0.146096            0.636344   RMSprop  0.0010\n",
       "3  0.055261        0.846797  0.141996            0.618761     Nadam  0.0010\n",
       "8  0.146970        0.535470  0.182531            0.441965   RMSprop  0.0001\n",
       "7  0.208119        0.325555  0.224032            0.285905      Adam  0.0001\n",
       "6  0.444643        0.001788  0.433546            0.003381     Nadam  0.0001"
      ]
     },
     "execution_count": 27,
     "metadata": {
      "tags": []
     },
     "output_type": "execute_result"
    }
   ],
   "source": [
    "# round 1\n",
    "t.data[['loss', 'f1_score_micro', 'val_loss', 'val_f1_score_micro', 'optimizer', 'lr']] \\\n",
    "    .sort_values(by=['val_f1_score_micro'], ascending=False)"
   ]
  },
  {
   "cell_type": "code",
   "execution_count": null,
   "metadata": {
    "id": "hHwMTvmApSWs"
   },
   "outputs": [],
   "source": []
  }
 ],
 "metadata": {
  "accelerator": "GPU",
  "colab": {
   "collapsed_sections": [],
   "name": "hyper-parameter tuning BiLSTM + w2v",
   "provenance": []
  },
  "kernelspec": {
   "display_name": "Python 3",
   "language": "python",
   "name": "python3"
  },
  "language_info": {
   "codemirror_mode": {
    "name": "ipython",
    "version": 3
   },
   "file_extension": ".py",
   "mimetype": "text/x-python",
   "name": "python",
   "nbconvert_exporter": "python",
   "pygments_lexer": "ipython3",
   "version": "3.7.7"
  }
 },
 "nbformat": 4,
 "nbformat_minor": 1
}
